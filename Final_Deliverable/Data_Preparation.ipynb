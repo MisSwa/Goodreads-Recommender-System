{
 "cells": [
  {
   "cell_type": "code",
   "execution_count": 171,
   "metadata": {},
   "outputs": [],
   "source": [
    "import pandas as pd\n",
    "import os\n",
    "import neo4j\n",
    "import numpy as np"
   ]
  },
  {
   "cell_type": "markdown",
   "metadata": {},
   "source": [
    "# Read books data"
   ]
  },
  {
   "cell_type": "code",
   "execution_count": 193,
   "metadata": {},
   "outputs": [],
   "source": [
    "df = pd.read_json('goodreads_books_poetry.json', lines=True)"
   ]
  },
  {
   "cell_type": "code",
   "execution_count": 194,
   "metadata": {},
   "outputs": [
    {
     "data": {
      "text/html": [
       "<div>\n",
       "<style scoped>\n",
       "    .dataframe tbody tr th:only-of-type {\n",
       "        vertical-align: middle;\n",
       "    }\n",
       "\n",
       "    .dataframe tbody tr th {\n",
       "        vertical-align: top;\n",
       "    }\n",
       "\n",
       "    .dataframe thead th {\n",
       "        text-align: right;\n",
       "    }\n",
       "</style>\n",
       "<table border=\"1\" class=\"dataframe\">\n",
       "  <thead>\n",
       "    <tr style=\"text-align: right;\">\n",
       "      <th></th>\n",
       "      <th>isbn</th>\n",
       "      <th>text_reviews_count</th>\n",
       "      <th>series</th>\n",
       "      <th>country_code</th>\n",
       "      <th>language_code</th>\n",
       "      <th>popular_shelves</th>\n",
       "      <th>asin</th>\n",
       "      <th>is_ebook</th>\n",
       "      <th>average_rating</th>\n",
       "      <th>kindle_asin</th>\n",
       "      <th>...</th>\n",
       "      <th>publication_month</th>\n",
       "      <th>edition_information</th>\n",
       "      <th>publication_year</th>\n",
       "      <th>url</th>\n",
       "      <th>image_url</th>\n",
       "      <th>book_id</th>\n",
       "      <th>ratings_count</th>\n",
       "      <th>work_id</th>\n",
       "      <th>title</th>\n",
       "      <th>title_without_series</th>\n",
       "    </tr>\n",
       "  </thead>\n",
       "  <tbody>\n",
       "    <tr>\n",
       "      <th>0</th>\n",
       "      <td></td>\n",
       "      <td>1</td>\n",
       "      <td>[]</td>\n",
       "      <td>US</td>\n",
       "      <td>eng</td>\n",
       "      <td>[{'count': '8', 'name': 'to-read'}, {'count': ...</td>\n",
       "      <td></td>\n",
       "      <td>false</td>\n",
       "      <td>3.83</td>\n",
       "      <td></td>\n",
       "      <td>...</td>\n",
       "      <td>11</td>\n",
       "      <td></td>\n",
       "      <td>1887</td>\n",
       "      <td>https://www.goodreads.com/book/show/16037549-v...</td>\n",
       "      <td>https://images.gr-assets.com/books/1348176637m...</td>\n",
       "      <td>16037549</td>\n",
       "      <td>3</td>\n",
       "      <td>5212748</td>\n",
       "      <td>Vision of Sir Launfal and Other Poems</td>\n",
       "      <td>Vision of Sir Launfal and Other Poems</td>\n",
       "    </tr>\n",
       "    <tr>\n",
       "      <th>1</th>\n",
       "      <td>0811223981</td>\n",
       "      <td>2</td>\n",
       "      <td>[]</td>\n",
       "      <td>US</td>\n",
       "      <td></td>\n",
       "      <td>[{'count': '100', 'name': 'to-read'}, {'count'...</td>\n",
       "      <td></td>\n",
       "      <td>false</td>\n",
       "      <td>3.83</td>\n",
       "      <td>B00U2WY9U8</td>\n",
       "      <td>...</td>\n",
       "      <td>4</td>\n",
       "      <td></td>\n",
       "      <td>2015</td>\n",
       "      <td>https://www.goodreads.com/book/show/22466716-f...</td>\n",
       "      <td>https://images.gr-assets.com/books/1404958407m...</td>\n",
       "      <td>22466716</td>\n",
       "      <td>37</td>\n",
       "      <td>41905435</td>\n",
       "      <td>Fairy Tales: Dramolettes</td>\n",
       "      <td>Fairy Tales: Dramolettes</td>\n",
       "    </tr>\n",
       "  </tbody>\n",
       "</table>\n",
       "<p>2 rows × 29 columns</p>\n",
       "</div>"
      ],
      "text/plain": [
       "         isbn  text_reviews_count series country_code language_code  \\\n",
       "0                               1     []           US           eng   \n",
       "1  0811223981                   2     []           US                 \n",
       "\n",
       "                                     popular_shelves asin is_ebook  \\\n",
       "0  [{'count': '8', 'name': 'to-read'}, {'count': ...         false   \n",
       "1  [{'count': '100', 'name': 'to-read'}, {'count'...         false   \n",
       "\n",
       "   average_rating kindle_asin  ... publication_month edition_information  \\\n",
       "0            3.83              ...                11                       \n",
       "1            3.83  B00U2WY9U8  ...                 4                       \n",
       "\n",
       "  publication_year                                                url  \\\n",
       "0             1887  https://www.goodreads.com/book/show/16037549-v...   \n",
       "1             2015  https://www.goodreads.com/book/show/22466716-f...   \n",
       "\n",
       "                                           image_url   book_id ratings_count  \\\n",
       "0  https://images.gr-assets.com/books/1348176637m...  16037549             3   \n",
       "1  https://images.gr-assets.com/books/1404958407m...  22466716            37   \n",
       "\n",
       "    work_id                                  title  \\\n",
       "0   5212748  Vision of Sir Launfal and Other Poems   \n",
       "1  41905435               Fairy Tales: Dramolettes   \n",
       "\n",
       "                    title_without_series  \n",
       "0  Vision of Sir Launfal and Other Poems  \n",
       "1               Fairy Tales: Dramolettes  \n",
       "\n",
       "[2 rows x 29 columns]"
      ]
     },
     "execution_count": 194,
     "metadata": {},
     "output_type": "execute_result"
    }
   ],
   "source": [
    "df.head(2)"
   ]
  },
  {
   "cell_type": "code",
   "execution_count": 195,
   "metadata": {},
   "outputs": [
    {
     "data": {
      "text/plain": [
       "Index(['isbn', 'text_reviews_count', 'series', 'country_code', 'language_code',\n",
       "       'popular_shelves', 'asin', 'is_ebook', 'average_rating', 'kindle_asin',\n",
       "       'similar_books', 'description', 'format', 'link', 'authors',\n",
       "       'publisher', 'num_pages', 'publication_day', 'isbn13',\n",
       "       'publication_month', 'edition_information', 'publication_year', 'url',\n",
       "       'image_url', 'book_id', 'ratings_count', 'work_id', 'title',\n",
       "       'title_without_series'],\n",
       "      dtype='object')"
      ]
     },
     "execution_count": 195,
     "metadata": {},
     "output_type": "execute_result"
    }
   ],
   "source": [
    "df.columns"
   ]
  },
  {
   "cell_type": "code",
   "execution_count": 196,
   "metadata": {},
   "outputs": [
    {
     "name": "stdout",
     "output_type": "stream",
     "text": [
      "<class 'pandas.core.frame.DataFrame'>\n",
      "RangeIndex: 36514 entries, 0 to 36513\n",
      "Data columns (total 29 columns):\n",
      " #   Column                Non-Null Count  Dtype  \n",
      "---  ------                --------------  -----  \n",
      " 0   isbn                  36514 non-null  object \n",
      " 1   text_reviews_count    36514 non-null  int64  \n",
      " 2   series                36514 non-null  object \n",
      " 3   country_code          36514 non-null  object \n",
      " 4   language_code         36514 non-null  object \n",
      " 5   popular_shelves       36514 non-null  object \n",
      " 6   asin                  36514 non-null  object \n",
      " 7   is_ebook              36514 non-null  object \n",
      " 8   average_rating        36514 non-null  float64\n",
      " 9   kindle_asin           36514 non-null  object \n",
      " 10  similar_books         36514 non-null  object \n",
      " 11  description           36514 non-null  object \n",
      " 12  format                36514 non-null  object \n",
      " 13  link                  36514 non-null  object \n",
      " 14  authors               36514 non-null  object \n",
      " 15  publisher             36514 non-null  object \n",
      " 16  num_pages             36514 non-null  object \n",
      " 17  publication_day       36514 non-null  object \n",
      " 18  isbn13                36514 non-null  object \n",
      " 19  publication_month     36514 non-null  object \n",
      " 20  edition_information   36514 non-null  object \n",
      " 21  publication_year      36514 non-null  object \n",
      " 22  url                   36514 non-null  object \n",
      " 23  image_url             36514 non-null  object \n",
      " 24  book_id               36514 non-null  int64  \n",
      " 25  ratings_count         36514 non-null  int64  \n",
      " 26  work_id               36514 non-null  int64  \n",
      " 27  title                 36514 non-null  object \n",
      " 28  title_without_series  36514 non-null  object \n",
      "dtypes: float64(1), int64(4), object(24)\n",
      "memory usage: 8.1+ MB\n"
     ]
    }
   ],
   "source": [
    "df.info()"
   ]
  },
  {
   "cell_type": "code",
   "execution_count": 197,
   "metadata": {},
   "outputs": [],
   "source": [
    "df = df.replace('',np.nan)"
   ]
  },
  {
   "cell_type": "code",
   "execution_count": 198,
   "metadata": {},
   "outputs": [],
   "source": [
    "df.drop(columns = ['popular_shelves','isbn','language_code','asin','kindle_asin','edition_information'], inplace = True)"
   ]
  },
  {
   "cell_type": "code",
   "execution_count": 199,
   "metadata": {},
   "outputs": [
    {
     "name": "stdout",
     "output_type": "stream",
     "text": [
      "text_reviews_count 0.0\n",
      "series 0.0\n",
      "country_code 0.0\n",
      "is_ebook 0.0\n",
      "average_rating 0.0\n",
      "similar_books 0.0\n",
      "description 20.611272388672838\n",
      "format 19.23919592485074\n",
      "link 0.0\n",
      "authors 0.0\n",
      "publisher 16.522429752971462\n",
      "num_pages 20.553760201566522\n",
      "publication_day 40.95963192200252\n",
      "isbn13 22.33389932628581\n",
      "publication_month 35.65755600591554\n",
      "publication_year 15.928137152872871\n",
      "url 0.0\n",
      "image_url 0.0\n",
      "book_id 0.0\n",
      "ratings_count 0.0\n",
      "work_id 0.0\n",
      "title 0.005477351152982418\n",
      "title_without_series 0.005477351152982418\n"
     ]
    }
   ],
   "source": [
    "for index, col in enumerate(df.columns):\n",
    "    print(col, df[col].isna().sum()*100/df.shape[0])"
   ]
  },
  {
   "cell_type": "code",
   "execution_count": 200,
   "metadata": {},
   "outputs": [
    {
     "data": {
      "text/plain": [
       "0        1887.0\n",
       "1        2015.0\n",
       "2        2008.0\n",
       "3        1964.0\n",
       "4        2015.0\n",
       "          ...  \n",
       "36509       NaN\n",
       "36510       NaN\n",
       "36511       NaN\n",
       "36512    2013.0\n",
       "36513    1996.0\n",
       "Name: publication_year, Length: 36514, dtype: float64"
      ]
     },
     "execution_count": 200,
     "metadata": {},
     "output_type": "execute_result"
    }
   ],
   "source": [
    "df.text_reviews_count.astype('int64')\n",
    "df.average_rating.astype('float64')\n",
    "df.num_pages.astype('float64')\n",
    "df.publication_month.astype('float64')\n",
    "df.publication_year.astype('float64')"
   ]
  },
  {
   "cell_type": "code",
   "execution_count": 201,
   "metadata": {},
   "outputs": [],
   "source": [
    "df['format'].fillna(df['format'].value_counts().index[0], inplace = True)\n",
    "df['publisher'].fillna(df['publisher'].value_counts().index[0], inplace = True)\n",
    "df['num_pages'].fillna(df['num_pages'].value_counts().index[0], inplace = True)\n",
    "df['publication_day'].fillna(df['publication_day'].value_counts().index[0], inplace = True)\n",
    "df['isbn13'].fillna(df['isbn13'].value_counts().index[0], inplace = True)\n",
    "df['publication_month'].fillna(df['publication_month'].value_counts().index[0], inplace = True)\n",
    "df['publication_year'].fillna(df['publication_year'].value_counts().index[0], inplace = True)\n",
    "df['title'].fillna(df['title'].value_counts().index[0], inplace = True)\n",
    "df['title_without_series'].fillna(df['title_without_series'].value_counts().index[0], inplace = True)\n",
    "df['description'].fillna(df['description'].value_counts().index[0], inplace = True)"
   ]
  },
  {
   "cell_type": "code",
   "execution_count": 202,
   "metadata": {},
   "outputs": [
    {
     "data": {
      "text/plain": [
       "W. W. Norton  Company                          6353\n",
       "Farrar, Straus and Giroux                       305\n",
       "Penguin Classics                                302\n",
       "Penguin Books                                   291\n",
       "New Directions                                  261\n",
       "Copper Canyon Press                             240\n",
       "Oxford University Press, USA                    240\n",
       "Knopf                                           227\n",
       "Graywolf Press                                  184\n",
       "W. W. Norton & Company                          180\n",
       "Createspace Independent Publishing Platform     172\n",
       "Dover Publications                              168\n",
       "Faber  Faber                                    165\n",
       "University of Pittsburgh Press                  158\n",
       "Mariner Books                                   146\n",
       "Oxford University Press                         146\n",
       "Faber & Faber                                   146\n",
       "Ecco                                            143\n",
       "University of California Press                  134\n",
       "HMH Books for Young Readers                     123\n",
       "New Directions Publishing Corporation           121\n",
       "HarperCollins                                   116\n",
       "BOA Editions Ltd.                               114\n",
       "Wesleyan                                        111\n",
       "Harper Perennial                                107\n",
       "Name: publisher, dtype: int64"
      ]
     },
     "execution_count": 202,
     "metadata": {},
     "output_type": "execute_result"
    }
   ],
   "source": [
    "df.publisher.value_counts().head(25)"
   ]
  },
  {
   "cell_type": "code",
   "execution_count": 267,
   "metadata": {},
   "outputs": [],
   "source": [
    "pubList = ['Penguin Books','New Directions',\n",
    "          'Oxford University Press, USA','Graywolf Press',\n",
    "          'Dover Publications', 'Faber  Faber', 'University of Pittsburgh Press', 'Mariner Books','Oxford University Press','Oxford University Press',\n",
    "          'University of California Press', 'HarperCollins','Wesleyan']"
   ]
  },
  {
   "cell_type": "code",
   "execution_count": 268,
   "metadata": {},
   "outputs": [
    {
     "data": {
      "text/plain": [
       "(2120, 23)"
      ]
     },
     "execution_count": 268,
     "metadata": {},
     "output_type": "execute_result"
    }
   ],
   "source": [
    "df[df['publisher'].isin(pubList)].shape"
   ]
  },
  {
   "cell_type": "code",
   "execution_count": 269,
   "metadata": {},
   "outputs": [],
   "source": [
    "df = df[df['publisher'].isin(pubList)]"
   ]
  },
  {
   "cell_type": "markdown",
   "metadata": {},
   "source": [
    "## Extract authors in a dataframe"
   ]
  },
  {
   "cell_type": "code",
   "execution_count": 270,
   "metadata": {},
   "outputs": [],
   "source": [
    "def extract_author(df, target_col):\n",
    "    temp_df = pd.DataFrame(columns=['book_id', target_col])\n",
    "    for index, row in df[['book_id', 'authors']].dropna().iterrows():\n",
    "        list_of_values = row[1][0]['author_id']\n",
    "        book_id = row[0]\n",
    "        #print([list_of_values])\n",
    "        temp_df = pd.concat([temp_df, pd.DataFrame({'book_id': book_id, target_col: [list_of_values]})])\n",
    "    return temp_df"
   ]
  },
  {
   "cell_type": "code",
   "execution_count": 271,
   "metadata": {},
   "outputs": [],
   "source": [
    "authors_df = extract_author(df, 'author')"
   ]
  },
  {
   "cell_type": "code",
   "execution_count": 272,
   "metadata": {},
   "outputs": [
    {
     "data": {
      "text/html": [
       "<div>\n",
       "<style scoped>\n",
       "    .dataframe tbody tr th:only-of-type {\n",
       "        vertical-align: middle;\n",
       "    }\n",
       "\n",
       "    .dataframe tbody tr th {\n",
       "        vertical-align: top;\n",
       "    }\n",
       "\n",
       "    .dataframe thead th {\n",
       "        text-align: right;\n",
       "    }\n",
       "</style>\n",
       "<table border=\"1\" class=\"dataframe\">\n",
       "  <thead>\n",
       "    <tr style=\"text-align: right;\">\n",
       "      <th></th>\n",
       "      <th>book_id</th>\n",
       "      <th>author</th>\n",
       "    </tr>\n",
       "  </thead>\n",
       "  <tbody>\n",
       "    <tr>\n",
       "      <th>0</th>\n",
       "      <td>22466716</td>\n",
       "      <td>16073</td>\n",
       "    </tr>\n",
       "    <tr>\n",
       "      <th>0</th>\n",
       "      <td>926667</td>\n",
       "      <td>18540</td>\n",
       "    </tr>\n",
       "  </tbody>\n",
       "</table>\n",
       "</div>"
      ],
      "text/plain": [
       "    book_id author\n",
       "0  22466716  16073\n",
       "0    926667  18540"
      ]
     },
     "execution_count": 272,
     "metadata": {},
     "output_type": "execute_result"
    }
   ],
   "source": [
    "authors_df.head(2)"
   ]
  },
  {
   "cell_type": "code",
   "execution_count": 273,
   "metadata": {},
   "outputs": [],
   "source": [
    "authors_df.to_csv('authors.csv', index = False)"
   ]
  },
  {
   "cell_type": "markdown",
   "metadata": {},
   "source": [
    "## Extract Publisher"
   ]
  },
  {
   "cell_type": "code",
   "execution_count": 274,
   "metadata": {},
   "outputs": [],
   "source": [
    "publisher_df = df[['book_id','publisher', 'num_pages', 'publication_day', 'isbn13',\n",
    "       'publication_month', 'publication_year']]"
   ]
  },
  {
   "cell_type": "code",
   "execution_count": 381,
   "metadata": {},
   "outputs": [
    {
     "data": {
      "text/html": [
       "<div>\n",
       "<style scoped>\n",
       "    .dataframe tbody tr th:only-of-type {\n",
       "        vertical-align: middle;\n",
       "    }\n",
       "\n",
       "    .dataframe tbody tr th {\n",
       "        vertical-align: top;\n",
       "    }\n",
       "\n",
       "    .dataframe thead th {\n",
       "        text-align: right;\n",
       "    }\n",
       "</style>\n",
       "<table border=\"1\" class=\"dataframe\">\n",
       "  <thead>\n",
       "    <tr style=\"text-align: right;\">\n",
       "      <th></th>\n",
       "      <th>book_id</th>\n",
       "      <th>publisher</th>\n",
       "      <th>num_pages</th>\n",
       "      <th>publication_day</th>\n",
       "      <th>isbn13</th>\n",
       "      <th>publication_month</th>\n",
       "      <th>publication_year</th>\n",
       "    </tr>\n",
       "  </thead>\n",
       "  <tbody>\n",
       "    <tr>\n",
       "      <th>1</th>\n",
       "      <td>22466716</td>\n",
       "      <td>New Directions</td>\n",
       "      <td>128</td>\n",
       "      <td>20</td>\n",
       "      <td>9780811223980</td>\n",
       "      <td>4</td>\n",
       "      <td>2015</td>\n",
       "    </tr>\n",
       "    <tr>\n",
       "      <th>3</th>\n",
       "      <td>926667</td>\n",
       "      <td>Mariner Books</td>\n",
       "      <td>190</td>\n",
       "      <td>18</td>\n",
       "      <td>9780156182898</td>\n",
       "      <td>3</td>\n",
       "      <td>1964</td>\n",
       "    </tr>\n",
       "    <tr>\n",
       "      <th>39</th>\n",
       "      <td>773136</td>\n",
       "      <td>University of Pittsburgh Press</td>\n",
       "      <td>104</td>\n",
       "      <td>31</td>\n",
       "      <td>9780822953685</td>\n",
       "      <td>3</td>\n",
       "      <td>1985</td>\n",
       "    </tr>\n",
       "    <tr>\n",
       "      <th>51</th>\n",
       "      <td>752936</td>\n",
       "      <td>Dover Publications</td>\n",
       "      <td>64</td>\n",
       "      <td>1</td>\n",
       "      <td>9780486264684</td>\n",
       "      <td>7</td>\n",
       "      <td>1990</td>\n",
       "    </tr>\n",
       "    <tr>\n",
       "      <th>59</th>\n",
       "      <td>7517330</td>\n",
       "      <td>Graywolf Press</td>\n",
       "      <td>167</td>\n",
       "      <td>20</td>\n",
       "      <td>9781555975623</td>\n",
       "      <td>7</td>\n",
       "      <td>2010</td>\n",
       "    </tr>\n",
       "    <tr>\n",
       "      <th>66</th>\n",
       "      <td>55427</td>\n",
       "      <td>Faber  Faber</td>\n",
       "      <td>96</td>\n",
       "      <td>23</td>\n",
       "      <td>9780571174256</td>\n",
       "      <td>8</td>\n",
       "      <td>1999</td>\n",
       "    </tr>\n",
       "    <tr>\n",
       "      <th>75</th>\n",
       "      <td>849845</td>\n",
       "      <td>University of California Press</td>\n",
       "      <td>96</td>\n",
       "      <td>22</td>\n",
       "      <td>9780520229259</td>\n",
       "      <td>5</td>\n",
       "      <td>2001</td>\n",
       "    </tr>\n",
       "    <tr>\n",
       "      <th>112</th>\n",
       "      <td>7113632</td>\n",
       "      <td>Oxford University Press</td>\n",
       "      <td>262</td>\n",
       "      <td>1</td>\n",
       "      <td>9780195547726</td>\n",
       "      <td>4</td>\n",
       "      <td>1988</td>\n",
       "    </tr>\n",
       "  </tbody>\n",
       "</table>\n",
       "</div>"
      ],
      "text/plain": [
       "      book_id                       publisher num_pages publication_day  \\\n",
       "1    22466716                  New Directions       128              20   \n",
       "3      926667                   Mariner Books       190              18   \n",
       "39     773136  University of Pittsburgh Press       104              31   \n",
       "51     752936              Dover Publications        64               1   \n",
       "59    7517330                  Graywolf Press       167              20   \n",
       "66      55427                    Faber  Faber        96              23   \n",
       "75     849845  University of California Press        96              22   \n",
       "112   7113632         Oxford University Press       262               1   \n",
       "\n",
       "            isbn13 publication_month publication_year  \n",
       "1    9780811223980                 4             2015  \n",
       "3    9780156182898                 3             1964  \n",
       "39   9780822953685                 3             1985  \n",
       "51   9780486264684                 7             1990  \n",
       "59   9781555975623                 7             2010  \n",
       "66   9780571174256                 8             1999  \n",
       "75   9780520229259                 5             2001  \n",
       "112  9780195547726                 4             1988  "
      ]
     },
     "execution_count": 381,
     "metadata": {},
     "output_type": "execute_result"
    }
   ],
   "source": [
    "publisher_df.head(8)"
   ]
  },
  {
   "cell_type": "code",
   "execution_count": 276,
   "metadata": {},
   "outputs": [],
   "source": [
    "publisher_df = publisher_df[publisher_df.publisher.notna()]"
   ]
  },
  {
   "cell_type": "code",
   "execution_count": 277,
   "metadata": {},
   "outputs": [],
   "source": [
    "publisher_df.to_csv('publisher.csv', index = False)"
   ]
  },
  {
   "cell_type": "markdown",
   "metadata": {},
   "source": [
    "## Extract similar books"
   ]
  },
  {
   "cell_type": "code",
   "execution_count": 213,
   "metadata": {},
   "outputs": [],
   "source": [
    "def extract_similarBooks(df, target_col):\n",
    "    temp_df = pd.DataFrame(columns=['book_id', target_col])\n",
    "    for index, row in df[['book_id', 'similar_books']].dropna().iterrows():\n",
    "        list_of_values = row[1]\n",
    "        book_id = row[0]\n",
    "        temp_df = pd.concat([temp_df, pd.DataFrame({'book_id': book_id, target_col: list_of_values})])\n",
    "    return temp_df"
   ]
  },
  {
   "cell_type": "code",
   "execution_count": 214,
   "metadata": {},
   "outputs": [],
   "source": [
    "similarBooks_df = extract_similarBooks(df,'similar_books')"
   ]
  },
  {
   "cell_type": "code",
   "execution_count": 215,
   "metadata": {},
   "outputs": [
    {
     "data": {
      "text/html": [
       "<div>\n",
       "<style scoped>\n",
       "    .dataframe tbody tr th:only-of-type {\n",
       "        vertical-align: middle;\n",
       "    }\n",
       "\n",
       "    .dataframe tbody tr th {\n",
       "        vertical-align: top;\n",
       "    }\n",
       "\n",
       "    .dataframe thead th {\n",
       "        text-align: right;\n",
       "    }\n",
       "</style>\n",
       "<table border=\"1\" class=\"dataframe\">\n",
       "  <thead>\n",
       "    <tr style=\"text-align: right;\">\n",
       "      <th></th>\n",
       "      <th>book_id</th>\n",
       "      <th>similar_books</th>\n",
       "    </tr>\n",
       "  </thead>\n",
       "  <tbody>\n",
       "    <tr>\n",
       "      <th>0</th>\n",
       "      <td>926667</td>\n",
       "      <td>1230072</td>\n",
       "    </tr>\n",
       "    <tr>\n",
       "      <th>1</th>\n",
       "      <td>926667</td>\n",
       "      <td>315167</td>\n",
       "    </tr>\n",
       "  </tbody>\n",
       "</table>\n",
       "</div>"
      ],
      "text/plain": [
       "  book_id similar_books\n",
       "0  926667       1230072\n",
       "1  926667        315167"
      ]
     },
     "execution_count": 215,
     "metadata": {},
     "output_type": "execute_result"
    }
   ],
   "source": [
    "similarBooks_df.head(2)"
   ]
  },
  {
   "cell_type": "code",
   "execution_count": 216,
   "metadata": {},
   "outputs": [],
   "source": [
    "similarBooks_df.to_csv('similarBooks.csv', index = False)"
   ]
  },
  {
   "cell_type": "markdown",
   "metadata": {},
   "source": [
    "## Extract series"
   ]
  },
  {
   "cell_type": "code",
   "execution_count": 217,
   "metadata": {},
   "outputs": [],
   "source": [
    "def extract_series(df, target_col):\n",
    "    temp_df = pd.DataFrame(columns=['book_id', target_col])\n",
    "    for index, row in df[['book_id', 'series']].dropna().iterrows():\n",
    "        list_of_values = row[1]\n",
    "        book_id = row[0]\n",
    "        temp_df = pd.concat([temp_df, pd.DataFrame({'book_id': book_id, target_col: list_of_values})])\n",
    "    return temp_df"
   ]
  },
  {
   "cell_type": "code",
   "execution_count": null,
   "metadata": {},
   "outputs": [],
   "source": [
    "series_df = extract_series(df, 'series')"
   ]
  },
  {
   "cell_type": "code",
   "execution_count": null,
   "metadata": {},
   "outputs": [],
   "source": [
    "series_df.head(2)"
   ]
  },
  {
   "cell_type": "code",
   "execution_count": null,
   "metadata": {},
   "outputs": [],
   "source": [
    "series_df.to_csv('bookSeries.csv', index = False)"
   ]
  },
  {
   "cell_type": "markdown",
   "metadata": {},
   "source": [
    "## Extract books alone"
   ]
  },
  {
   "cell_type": "code",
   "execution_count": 278,
   "metadata": {},
   "outputs": [
    {
     "data": {
      "text/plain": [
       "Index(['text_reviews_count', 'series', 'country_code', 'is_ebook',\n",
       "       'average_rating', 'similar_books', 'description', 'format', 'link',\n",
       "       'authors', 'publisher', 'num_pages', 'publication_day', 'isbn13',\n",
       "       'publication_month', 'publication_year', 'url', 'image_url', 'book_id',\n",
       "       'ratings_count', 'work_id', 'title', 'title_without_series'],\n",
       "      dtype='object')"
      ]
     },
     "execution_count": 278,
     "metadata": {},
     "output_type": "execute_result"
    }
   ],
   "source": [
    "df.columns"
   ]
  },
  {
   "cell_type": "code",
   "execution_count": 279,
   "metadata": {},
   "outputs": [],
   "source": [
    "books_df = df[['book_id', 'text_reviews_count', 'country_code',\n",
    "       'is_ebook', 'average_rating', 'description', 'format', 'link', 'url',\n",
    "       'image_url', 'ratings_count', 'work_id', 'title',\n",
    "       'title_without_series']]"
   ]
  },
  {
   "cell_type": "code",
   "execution_count": 374,
   "metadata": {},
   "outputs": [
    {
     "data": {
      "text/html": [
       "<div>\n",
       "<style scoped>\n",
       "    .dataframe tbody tr th:only-of-type {\n",
       "        vertical-align: middle;\n",
       "    }\n",
       "\n",
       "    .dataframe tbody tr th {\n",
       "        vertical-align: top;\n",
       "    }\n",
       "\n",
       "    .dataframe thead th {\n",
       "        text-align: right;\n",
       "    }\n",
       "</style>\n",
       "<table border=\"1\" class=\"dataframe\">\n",
       "  <thead>\n",
       "    <tr style=\"text-align: right;\">\n",
       "      <th></th>\n",
       "      <th>book_id</th>\n",
       "      <th>text_reviews_count</th>\n",
       "      <th>country_code</th>\n",
       "      <th>is_ebook</th>\n",
       "      <th>average_rating</th>\n",
       "      <th>description</th>\n",
       "      <th>format</th>\n",
       "      <th>link</th>\n",
       "      <th>url</th>\n",
       "      <th>image_url</th>\n",
       "      <th>ratings_count</th>\n",
       "      <th>work_id</th>\n",
       "      <th>title</th>\n",
       "      <th>title_without_series</th>\n",
       "    </tr>\n",
       "  </thead>\n",
       "  <tbody>\n",
       "    <tr>\n",
       "      <th>1</th>\n",
       "      <td>22466716</td>\n",
       "      <td>2</td>\n",
       "      <td>US</td>\n",
       "      <td>false</td>\n",
       "      <td>3.83</td>\n",
       "      <td>Fairy Tales gathers the unconventional verse d...</td>\n",
       "      <td>Paperback</td>\n",
       "      <td>https://www.goodreads.com/book/show/22466716-f...</td>\n",
       "      <td>https://www.goodreads.com/book/show/22466716-f...</td>\n",
       "      <td>https://images.gr-assets.com/books/1404958407m...</td>\n",
       "      <td>37</td>\n",
       "      <td>41905435</td>\n",
       "      <td>Fairy Tales: Dramolettes</td>\n",
       "      <td>Fairy Tales: Dramolettes</td>\n",
       "    </tr>\n",
       "    <tr>\n",
       "      <th>3</th>\n",
       "      <td>926667</td>\n",
       "      <td>12</td>\n",
       "      <td>US</td>\n",
       "      <td>false</td>\n",
       "      <td>3.71</td>\n",
       "      <td>A modern verse play about the search for meani...</td>\n",
       "      <td>Paperback</td>\n",
       "      <td>https://www.goodreads.com/book/show/926667.The...</td>\n",
       "      <td>https://www.goodreads.com/book/show/926667.The...</td>\n",
       "      <td>https://images.gr-assets.com/books/1382939971m...</td>\n",
       "      <td>115</td>\n",
       "      <td>995066</td>\n",
       "      <td>The Cocktail Party</td>\n",
       "      <td>The Cocktail Party</td>\n",
       "    </tr>\n",
       "    <tr>\n",
       "      <th>39</th>\n",
       "      <td>773136</td>\n",
       "      <td>3</td>\n",
       "      <td>US</td>\n",
       "      <td>false</td>\n",
       "      <td>4.51</td>\n",
       "      <td>Since the appearance of his first book in 1972...</td>\n",
       "      <td>Paperback</td>\n",
       "      <td>https://www.goodreads.com/book/show/773136.Win...</td>\n",
       "      <td>https://www.goodreads.com/book/show/773136.Win...</td>\n",
       "      <td>https://images.gr-assets.com/books/1328807845m...</td>\n",
       "      <td>58</td>\n",
       "      <td>759187</td>\n",
       "      <td>Winter Stars</td>\n",
       "      <td>Winter Stars</td>\n",
       "    </tr>\n",
       "    <tr>\n",
       "      <th>51</th>\n",
       "      <td>752936</td>\n",
       "      <td>86</td>\n",
       "      <td>US</td>\n",
       "      <td>false</td>\n",
       "      <td>4.04</td>\n",
       "      <td>Few volumes of poetry in the English language ...</td>\n",
       "      <td>Paperback</td>\n",
       "      <td>https://www.goodreads.com/book/show/752936.A_S...</td>\n",
       "      <td>https://www.goodreads.com/book/show/752936.A_S...</td>\n",
       "      <td>https://images.gr-assets.com/books/1414599637m...</td>\n",
       "      <td>1438</td>\n",
       "      <td>1548437</td>\n",
       "      <td>A Shropshire Lad</td>\n",
       "      <td>A Shropshire Lad</td>\n",
       "    </tr>\n",
       "    <tr>\n",
       "      <th>59</th>\n",
       "      <td>7517330</td>\n",
       "      <td>56</td>\n",
       "      <td>US</td>\n",
       "      <td>false</td>\n",
       "      <td>4.15</td>\n",
       "      <td>In The Art of Recklessness, Dean Young's spraw...</td>\n",
       "      <td>Paperback</td>\n",
       "      <td>https://www.goodreads.com/book/show/7517330-th...</td>\n",
       "      <td>https://www.goodreads.com/book/show/7517330-th...</td>\n",
       "      <td>https://images.gr-assets.com/books/1316637843m...</td>\n",
       "      <td>468</td>\n",
       "      <td>9729336</td>\n",
       "      <td>The Art of Recklessness: Poetry as Assertive F...</td>\n",
       "      <td>The Art of Recklessness: Poetry as Assertive F...</td>\n",
       "    </tr>\n",
       "    <tr>\n",
       "      <th>66</th>\n",
       "      <td>55427</td>\n",
       "      <td>6</td>\n",
       "      <td>US</td>\n",
       "      <td>false</td>\n",
       "      <td>4.02</td>\n",
       "      <td>This labyrinthine and extraordinary book, firs...</td>\n",
       "      <td>Paperback</td>\n",
       "      <td>https://www.goodreads.com/book/show/55427.The_...</td>\n",
       "      <td>https://www.goodreads.com/book/show/55427.The_...</td>\n",
       "      <td>https://s.gr-assets.com/assets/nophoto/book/11...</td>\n",
       "      <td>60</td>\n",
       "      <td>219413</td>\n",
       "      <td>The White Goddess</td>\n",
       "      <td>The White Goddess</td>\n",
       "    </tr>\n",
       "    <tr>\n",
       "      <th>75</th>\n",
       "      <td>849845</td>\n",
       "      <td>3</td>\n",
       "      <td>US</td>\n",
       "      <td>false</td>\n",
       "      <td>4.00</td>\n",
       "      <td>These poems, selected from Das Buch der Bilder...</td>\n",
       "      <td>Paperback</td>\n",
       "      <td>https://www.goodreads.com/book/show/849845.Rilke</td>\n",
       "      <td>https://www.goodreads.com/book/show/849845.Rilke</td>\n",
       "      <td>https://s.gr-assets.com/assets/nophoto/book/11...</td>\n",
       "      <td>18</td>\n",
       "      <td>54762659</td>\n",
       "      <td>Rilke: Selected Poems</td>\n",
       "      <td>Rilke: Selected Poems</td>\n",
       "    </tr>\n",
       "    <tr>\n",
       "      <th>112</th>\n",
       "      <td>7113632</td>\n",
       "      <td>1</td>\n",
       "      <td>US</td>\n",
       "      <td>false</td>\n",
       "      <td>3.00</td>\n",
       "      <td>A collection of carefully selected poems by Au...</td>\n",
       "      <td>Paperback</td>\n",
       "      <td>https://www.goodreads.com/book/show/7113632-tw...</td>\n",
       "      <td>https://www.goodreads.com/book/show/7113632-tw...</td>\n",
       "      <td>https://images.gr-assets.com/books/1344263105m...</td>\n",
       "      <td>2</td>\n",
       "      <td>7373456</td>\n",
       "      <td>Two Centuries of Australian Poetry</td>\n",
       "      <td>Two Centuries of Australian Poetry</td>\n",
       "    </tr>\n",
       "    <tr>\n",
       "      <th>122</th>\n",
       "      <td>1222347</td>\n",
       "      <td>2</td>\n",
       "      <td>US</td>\n",
       "      <td>false</td>\n",
       "      <td>4.57</td>\n",
       "      <td>One of the greatest plays of all time, the com...</td>\n",
       "      <td>Paperback</td>\n",
       "      <td>https://www.goodreads.com/book/show/1222347.Wa...</td>\n",
       "      <td>https://www.goodreads.com/book/show/1222347.Wa...</td>\n",
       "      <td>https://s.gr-assets.com/assets/nophoto/book/11...</td>\n",
       "      <td>4</td>\n",
       "      <td>2645891</td>\n",
       "      <td>Walking Distance</td>\n",
       "      <td>Walking Distance</td>\n",
       "    </tr>\n",
       "    <tr>\n",
       "      <th>139</th>\n",
       "      <td>704917</td>\n",
       "      <td>5</td>\n",
       "      <td>US</td>\n",
       "      <td>false</td>\n",
       "      <td>3.78</td>\n",
       "      <td>Yet in this selection of sixty-two poems chose...</td>\n",
       "      <td>Paperback</td>\n",
       "      <td>https://www.goodreads.com/book/show/704917.The...</td>\n",
       "      <td>https://www.goodreads.com/book/show/704917.The...</td>\n",
       "      <td>https://s.gr-assets.com/assets/nophoto/book/11...</td>\n",
       "      <td>36</td>\n",
       "      <td>691202</td>\n",
       "      <td>The Life Around Us: Selected Poems on Nature</td>\n",
       "      <td>The Life Around Us: Selected Poems on Nature</td>\n",
       "    </tr>\n",
       "  </tbody>\n",
       "</table>\n",
       "</div>"
      ],
      "text/plain": [
       "      book_id  text_reviews_count country_code is_ebook  average_rating  \\\n",
       "1    22466716                   2           US    false            3.83   \n",
       "3      926667                  12           US    false            3.71   \n",
       "39     773136                   3           US    false            4.51   \n",
       "51     752936                  86           US    false            4.04   \n",
       "59    7517330                  56           US    false            4.15   \n",
       "66      55427                   6           US    false            4.02   \n",
       "75     849845                   3           US    false            4.00   \n",
       "112   7113632                   1           US    false            3.00   \n",
       "122   1222347                   2           US    false            4.57   \n",
       "139    704917                   5           US    false            3.78   \n",
       "\n",
       "                                           description     format  \\\n",
       "1    Fairy Tales gathers the unconventional verse d...  Paperback   \n",
       "3    A modern verse play about the search for meani...  Paperback   \n",
       "39   Since the appearance of his first book in 1972...  Paperback   \n",
       "51   Few volumes of poetry in the English language ...  Paperback   \n",
       "59   In The Art of Recklessness, Dean Young's spraw...  Paperback   \n",
       "66   This labyrinthine and extraordinary book, firs...  Paperback   \n",
       "75   These poems, selected from Das Buch der Bilder...  Paperback   \n",
       "112  A collection of carefully selected poems by Au...  Paperback   \n",
       "122  One of the greatest plays of all time, the com...  Paperback   \n",
       "139  Yet in this selection of sixty-two poems chose...  Paperback   \n",
       "\n",
       "                                                  link  \\\n",
       "1    https://www.goodreads.com/book/show/22466716-f...   \n",
       "3    https://www.goodreads.com/book/show/926667.The...   \n",
       "39   https://www.goodreads.com/book/show/773136.Win...   \n",
       "51   https://www.goodreads.com/book/show/752936.A_S...   \n",
       "59   https://www.goodreads.com/book/show/7517330-th...   \n",
       "66   https://www.goodreads.com/book/show/55427.The_...   \n",
       "75    https://www.goodreads.com/book/show/849845.Rilke   \n",
       "112  https://www.goodreads.com/book/show/7113632-tw...   \n",
       "122  https://www.goodreads.com/book/show/1222347.Wa...   \n",
       "139  https://www.goodreads.com/book/show/704917.The...   \n",
       "\n",
       "                                                   url  \\\n",
       "1    https://www.goodreads.com/book/show/22466716-f...   \n",
       "3    https://www.goodreads.com/book/show/926667.The...   \n",
       "39   https://www.goodreads.com/book/show/773136.Win...   \n",
       "51   https://www.goodreads.com/book/show/752936.A_S...   \n",
       "59   https://www.goodreads.com/book/show/7517330-th...   \n",
       "66   https://www.goodreads.com/book/show/55427.The_...   \n",
       "75    https://www.goodreads.com/book/show/849845.Rilke   \n",
       "112  https://www.goodreads.com/book/show/7113632-tw...   \n",
       "122  https://www.goodreads.com/book/show/1222347.Wa...   \n",
       "139  https://www.goodreads.com/book/show/704917.The...   \n",
       "\n",
       "                                             image_url  ratings_count  \\\n",
       "1    https://images.gr-assets.com/books/1404958407m...             37   \n",
       "3    https://images.gr-assets.com/books/1382939971m...            115   \n",
       "39   https://images.gr-assets.com/books/1328807845m...             58   \n",
       "51   https://images.gr-assets.com/books/1414599637m...           1438   \n",
       "59   https://images.gr-assets.com/books/1316637843m...            468   \n",
       "66   https://s.gr-assets.com/assets/nophoto/book/11...             60   \n",
       "75   https://s.gr-assets.com/assets/nophoto/book/11...             18   \n",
       "112  https://images.gr-assets.com/books/1344263105m...              2   \n",
       "122  https://s.gr-assets.com/assets/nophoto/book/11...              4   \n",
       "139  https://s.gr-assets.com/assets/nophoto/book/11...             36   \n",
       "\n",
       "      work_id                                              title  \\\n",
       "1    41905435                           Fairy Tales: Dramolettes   \n",
       "3      995066                                 The Cocktail Party   \n",
       "39     759187                                       Winter Stars   \n",
       "51    1548437                                   A Shropshire Lad   \n",
       "59    9729336  The Art of Recklessness: Poetry as Assertive F...   \n",
       "66     219413                                  The White Goddess   \n",
       "75   54762659                              Rilke: Selected Poems   \n",
       "112   7373456                 Two Centuries of Australian Poetry   \n",
       "122   2645891                                   Walking Distance   \n",
       "139    691202       The Life Around Us: Selected Poems on Nature   \n",
       "\n",
       "                                  title_without_series  \n",
       "1                             Fairy Tales: Dramolettes  \n",
       "3                                   The Cocktail Party  \n",
       "39                                        Winter Stars  \n",
       "51                                    A Shropshire Lad  \n",
       "59   The Art of Recklessness: Poetry as Assertive F...  \n",
       "66                                   The White Goddess  \n",
       "75                               Rilke: Selected Poems  \n",
       "112                 Two Centuries of Australian Poetry  \n",
       "122                                   Walking Distance  \n",
       "139       The Life Around Us: Selected Poems on Nature  "
      ]
     },
     "execution_count": 374,
     "metadata": {},
     "output_type": "execute_result"
    }
   ],
   "source": [
    "books_df.head(10)"
   ]
  },
  {
   "cell_type": "code",
   "execution_count": 375,
   "metadata": {},
   "outputs": [
    {
     "data": {
      "text/plain": [
       "Paperback                1730\n",
       "Hardcover                 325\n",
       "ebook                      43\n",
       "Unknown Binding             7\n",
       "Mass Market Paperback       5\n",
       "paper                       4\n",
       "Kindle Edition              3\n",
       "Audio                       1\n",
       "Audio CD                    1\n",
       "Hardback                    1\n",
       "Name: format, dtype: int64"
      ]
     },
     "execution_count": 375,
     "metadata": {},
     "output_type": "execute_result"
    }
   ],
   "source": [
    "books_df.format.value_counts()"
   ]
  },
  {
   "cell_type": "code",
   "execution_count": 281,
   "metadata": {},
   "outputs": [],
   "source": [
    "ebooks_df = books_df[books_df.is_ebook == 'true']"
   ]
  },
  {
   "cell_type": "code",
   "execution_count": 282,
   "metadata": {},
   "outputs": [],
   "source": [
    "not_ebooks_df = books_df[books_df.is_ebook == 'false']"
   ]
  },
  {
   "cell_type": "code",
   "execution_count": 283,
   "metadata": {},
   "outputs": [],
   "source": [
    "ebooks_df.to_csv('ebooks.csv', index = False)\n",
    "#not_ebooks_df.to_csv('not_ebooks.csv', index = False)"
   ]
  },
  {
   "cell_type": "code",
   "execution_count": 284,
   "metadata": {},
   "outputs": [],
   "source": [
    "not_ebooks = not_ebooks_df.copy()"
   ]
  },
  {
   "cell_type": "code",
   "execution_count": 285,
   "metadata": {},
   "outputs": [],
   "source": [
    "not_ebooks.description = not_ebooks.description.apply(lambda x: x.replace('\"', \"'\"))\n",
    "not_ebooks.title = not_ebooks.title.apply(lambda x: x.replace('\"', \"'\"))\n",
    "not_ebooks.title_without_series = not_ebooks.title_without_series.apply(lambda x: x.replace('\"', \"'\"))"
   ]
  },
  {
   "cell_type": "code",
   "execution_count": 286,
   "metadata": {},
   "outputs": [],
   "source": [
    "not_ebooks.to_csv('not_ebooks.csv', index = False)"
   ]
  },
  {
   "cell_type": "code",
   "execution_count": null,
   "metadata": {},
   "outputs": [],
   "source": [
    "not_ebooks[not_ebooks.apply(lambda row: row.astype(str).str.contains(\"\\\"\").any(), axis=1)]"
   ]
  },
  {
   "cell_type": "markdown",
   "metadata": {},
   "source": [
    "# Read reviews data"
   ]
  },
  {
   "cell_type": "code",
   "execution_count": 307,
   "metadata": {},
   "outputs": [],
   "source": [
    "df_reviews = pd.read_json('goodreads_reviews_poetry.json', lines=True)"
   ]
  },
  {
   "cell_type": "code",
   "execution_count": 308,
   "metadata": {},
   "outputs": [
    {
     "data": {
      "text/plain": [
       "Index(['user_id', 'book_id', 'review_id', 'rating', 'review_text',\n",
       "       'date_added', 'date_updated', 'read_at', 'started_at', 'n_votes',\n",
       "       'n_comments'],\n",
       "      dtype='object')"
      ]
     },
     "execution_count": 308,
     "metadata": {},
     "output_type": "execute_result"
    }
   ],
   "source": [
    "df_reviews.columns"
   ]
  },
  {
   "cell_type": "code",
   "execution_count": null,
   "metadata": {},
   "outputs": [],
   "source": [
    "df_reviews[df_reviews.apply(lambda row: row.astype(str).str.contains(\"\\\"\").any(), axis=1)]"
   ]
  },
  {
   "cell_type": "code",
   "execution_count": 311,
   "metadata": {},
   "outputs": [],
   "source": [
    "df_reviews.review_text = df_reviews.review_text.apply(lambda x: x.replace('\"', \"'\"))\n",
    "# df_reviews.review_text = df_reviews.review_text.apply(lambda x: x.replace('\"', \"'\"))"
   ]
  },
  {
   "cell_type": "code",
   "execution_count": 312,
   "metadata": {},
   "outputs": [
    {
     "data": {
      "text/plain": [
       "user_id         False\n",
       "book_id         False\n",
       "review_id       False\n",
       "rating          False\n",
       "review_text     False\n",
       "date_added      False\n",
       "date_updated    False\n",
       "read_at         False\n",
       "started_at      False\n",
       "n_votes         False\n",
       "n_comments      False\n",
       "dtype: bool"
      ]
     },
     "execution_count": 312,
     "metadata": {},
     "output_type": "execute_result"
    }
   ],
   "source": [
    "df_reviews.isnull().any()"
   ]
  },
  {
   "cell_type": "code",
   "execution_count": 340,
   "metadata": {},
   "outputs": [],
   "source": [
    "from datetime import datetime\n",
    "\n",
    "df_reviews['date_added'] = pd.to_datetime(df_reviews['date_added'], utc=True)"
   ]
  },
  {
   "cell_type": "code",
   "execution_count": 347,
   "metadata": {},
   "outputs": [],
   "source": [
    "df_reviews['date_added'] = df_reviews['date_added'].dt.date"
   ]
  },
  {
   "cell_type": "code",
   "execution_count": 348,
   "metadata": {},
   "outputs": [],
   "source": [
    "df_reviews = df_reviews[['user_id', 'book_id', 'review_id', 'rating','date_added']]"
   ]
  },
  {
   "cell_type": "code",
   "execution_count": 349,
   "metadata": {},
   "outputs": [],
   "source": [
    "booklist = df.book_id.unique().tolist()"
   ]
  },
  {
   "cell_type": "code",
   "execution_count": 350,
   "metadata": {},
   "outputs": [],
   "source": [
    "df_reviews = df_reviews[df_reviews['book_id'].isin(booklist)]"
   ]
  },
  {
   "cell_type": "markdown",
   "metadata": {},
   "source": [
    "# Users data exploration"
   ]
  },
  {
   "cell_type": "code",
   "execution_count": 379,
   "metadata": {},
   "outputs": [
    {
     "data": {
      "text/plain": [
       "6206"
      ]
     },
     "execution_count": 379,
     "metadata": {},
     "output_type": "execute_result"
    }
   ],
   "source": [
    "reviewers = df_reviews.user_id.unique().tolist()\n",
    "len(reviewers)"
   ]
  },
  {
   "cell_type": "code",
   "execution_count": 380,
   "metadata": {},
   "outputs": [
    {
     "data": {
      "text/html": [
       "<div>\n",
       "<style scoped>\n",
       "    .dataframe tbody tr th:only-of-type {\n",
       "        vertical-align: middle;\n",
       "    }\n",
       "\n",
       "    .dataframe tbody tr th {\n",
       "        vertical-align: top;\n",
       "    }\n",
       "\n",
       "    .dataframe thead th {\n",
       "        text-align: right;\n",
       "    }\n",
       "</style>\n",
       "<table border=\"1\" class=\"dataframe\">\n",
       "  <thead>\n",
       "    <tr style=\"text-align: right;\">\n",
       "      <th></th>\n",
       "      <th>user_id</th>\n",
       "      <th>book_id</th>\n",
       "      <th>review_id</th>\n",
       "      <th>rating</th>\n",
       "      <th>date_added</th>\n",
       "      <th>year</th>\n",
       "    </tr>\n",
       "  </thead>\n",
       "  <tbody>\n",
       "    <tr>\n",
       "      <th>1</th>\n",
       "      <td>0ef32090550901ead25cb0ea21c4d36b</td>\n",
       "      <td>92270</td>\n",
       "      <td>2db1180992e2b0b1631a3ac5644bde84</td>\n",
       "      <td>5</td>\n",
       "      <td>2014-04-15</td>\n",
       "      <td>2014</td>\n",
       "    </tr>\n",
       "    <tr>\n",
       "      <th>4</th>\n",
       "      <td>af157d0205b8a901dee6d4a2aed7e6ad</td>\n",
       "      <td>70885</td>\n",
       "      <td>8dca128b8e869048a7442c18659dbece</td>\n",
       "      <td>5</td>\n",
       "      <td>2015-06-19</td>\n",
       "      <td>2015</td>\n",
       "    </tr>\n",
       "    <tr>\n",
       "      <th>29</th>\n",
       "      <td>7e4945a6266566e39e3f251fff0fdde1</td>\n",
       "      <td>128436</td>\n",
       "      <td>5e9edafcc95cc2526fe0830ca046d009</td>\n",
       "      <td>5</td>\n",
       "      <td>2012-06-26</td>\n",
       "      <td>2012</td>\n",
       "    </tr>\n",
       "    <tr>\n",
       "      <th>32</th>\n",
       "      <td>d4b1dcb35db677f20ee45225a5e43be2</td>\n",
       "      <td>17648</td>\n",
       "      <td>db5e9df7999776cab56860ed73248c12</td>\n",
       "      <td>4</td>\n",
       "      <td>2007-08-05</td>\n",
       "      <td>2007</td>\n",
       "    </tr>\n",
       "    <tr>\n",
       "      <th>45</th>\n",
       "      <td>34216df2a5f3846b17e3f96bea6c2ad7</td>\n",
       "      <td>20613761</td>\n",
       "      <td>6408237e977c0dbe0297ba7d0d259a09</td>\n",
       "      <td>3</td>\n",
       "      <td>2016-11-08</td>\n",
       "      <td>2016</td>\n",
       "    </tr>\n",
       "    <tr>\n",
       "      <th>52</th>\n",
       "      <td>c6237533dc14102048c38661051da41c</td>\n",
       "      <td>47734</td>\n",
       "      <td>42a50e67f63371ad6f8c1af316904ab8</td>\n",
       "      <td>5</td>\n",
       "      <td>2008-01-09</td>\n",
       "      <td>2008</td>\n",
       "    </tr>\n",
       "    <tr>\n",
       "      <th>65</th>\n",
       "      <td>5f550cc8d90df1759eda1496621187d8</td>\n",
       "      <td>20613761</td>\n",
       "      <td>2cc330737e7b15c6ca5da082f620ffac</td>\n",
       "      <td>3</td>\n",
       "      <td>2016-11-04</td>\n",
       "      <td>2016</td>\n",
       "    </tr>\n",
       "    <tr>\n",
       "      <th>68</th>\n",
       "      <td>5f550cc8d90df1759eda1496621187d8</td>\n",
       "      <td>143505</td>\n",
       "      <td>a930e66d3313d503d074e00cbc33b25a</td>\n",
       "      <td>2</td>\n",
       "      <td>2014-02-27</td>\n",
       "      <td>2014</td>\n",
       "    </tr>\n",
       "    <tr>\n",
       "      <th>88</th>\n",
       "      <td>a4f283aafe153b1997dc6a9fcd2e8e58</td>\n",
       "      <td>160192</td>\n",
       "      <td>41bd27def417e9f5493da0c5eaf8c334</td>\n",
       "      <td>4</td>\n",
       "      <td>2009-03-01</td>\n",
       "      <td>2009</td>\n",
       "    </tr>\n",
       "    <tr>\n",
       "      <th>92</th>\n",
       "      <td>753746d5d26fea030b33299b34ea1299</td>\n",
       "      <td>7055794</td>\n",
       "      <td>99909e9461f4889ab638d88973a462c0</td>\n",
       "      <td>2</td>\n",
       "      <td>2010-05-18</td>\n",
       "      <td>2010</td>\n",
       "    </tr>\n",
       "  </tbody>\n",
       "</table>\n",
       "</div>"
      ],
      "text/plain": [
       "                             user_id   book_id  \\\n",
       "1   0ef32090550901ead25cb0ea21c4d36b     92270   \n",
       "4   af157d0205b8a901dee6d4a2aed7e6ad     70885   \n",
       "29  7e4945a6266566e39e3f251fff0fdde1    128436   \n",
       "32  d4b1dcb35db677f20ee45225a5e43be2     17648   \n",
       "45  34216df2a5f3846b17e3f96bea6c2ad7  20613761   \n",
       "52  c6237533dc14102048c38661051da41c     47734   \n",
       "65  5f550cc8d90df1759eda1496621187d8  20613761   \n",
       "68  5f550cc8d90df1759eda1496621187d8    143505   \n",
       "88  a4f283aafe153b1997dc6a9fcd2e8e58    160192   \n",
       "92  753746d5d26fea030b33299b34ea1299   7055794   \n",
       "\n",
       "                           review_id  rating  date_added  year  \n",
       "1   2db1180992e2b0b1631a3ac5644bde84       5  2014-04-15  2014  \n",
       "4   8dca128b8e869048a7442c18659dbece       5  2015-06-19  2015  \n",
       "29  5e9edafcc95cc2526fe0830ca046d009       5  2012-06-26  2012  \n",
       "32  db5e9df7999776cab56860ed73248c12       4  2007-08-05  2007  \n",
       "45  6408237e977c0dbe0297ba7d0d259a09       3  2016-11-08  2016  \n",
       "52  42a50e67f63371ad6f8c1af316904ab8       5  2008-01-09  2008  \n",
       "65  2cc330737e7b15c6ca5da082f620ffac       3  2016-11-04  2016  \n",
       "68  a930e66d3313d503d074e00cbc33b25a       2  2014-02-27  2014  \n",
       "88  41bd27def417e9f5493da0c5eaf8c334       4  2009-03-01  2009  \n",
       "92  99909e9461f4889ab638d88973a462c0       2  2010-05-18  2010  "
      ]
     },
     "execution_count": 380,
     "metadata": {},
     "output_type": "execute_result"
    }
   ],
   "source": [
    "df_reviews.head(10)"
   ]
  },
  {
   "cell_type": "code",
   "execution_count": 357,
   "metadata": {},
   "outputs": [],
   "source": [
    "df_reviews.to_csv('reviews1.csv', index = False)"
   ]
  },
  {
   "cell_type": "code",
   "execution_count": 368,
   "metadata": {},
   "outputs": [],
   "source": [
    "df_reviews['year'] = pd.to_datetime(df_reviews['date_added'])"
   ]
  },
  {
   "cell_type": "code",
   "execution_count": 369,
   "metadata": {},
   "outputs": [],
   "source": [
    "df_reviews['year'] = df_reviews['year'].dt.year"
   ]
  },
  {
   "cell_type": "code",
   "execution_count": 373,
   "metadata": {},
   "outputs": [
    {
     "data": {
      "text/plain": [
       "2016    1458\n",
       "2015    1352\n",
       "2013    1173\n",
       "2014    1147\n",
       "2017    1131\n",
       "2012    1032\n",
       "2011     841\n",
       "2008     797\n",
       "2009     604\n",
       "2010     582\n",
       "2007     493\n",
       "Name: year, dtype: int64"
      ]
     },
     "execution_count": 373,
     "metadata": {},
     "output_type": "execute_result"
    }
   ],
   "source": [
    "df_reviews['year'].value_counts()"
   ]
  },
  {
   "cell_type": "code",
   "execution_count": 299,
   "metadata": {},
   "outputs": [
    {
     "name": "stdout",
     "output_type": "stream",
     "text": [
      "number of users -  6206\n",
      "number of books -  2120\n",
      "number of authors -  904\n",
      "number of publishers -  12\n",
      "number of reviews -  10610\n"
     ]
    }
   ],
   "source": [
    "print(\"number of users - \",len(set(df_reviews.user_id)))\n",
    "print(\"number of books - \", len(set(df.book_id)))\n",
    "print(\"number of authors - \", len(set(authors_df.author)))\n",
    "print(\"number of publishers - \", len(set(df.publisher)))\n",
    "#print(\"number of series - \", len(set(series_df.series)))\n",
    "print(\"number of reviews - \",len(set(df_reviews.review_id)))"
   ]
  },
  {
   "cell_type": "code",
   "execution_count": null,
   "metadata": {},
   "outputs": [],
   "source": []
  },
  {
   "cell_type": "code",
   "execution_count": null,
   "metadata": {},
   "outputs": [],
   "source": []
  },
  {
   "cell_type": "code",
   "execution_count": null,
   "metadata": {},
   "outputs": [],
   "source": []
  }
 ],
 "metadata": {
  "kernelspec": {
   "display_name": "Python 3",
   "language": "python",
   "name": "python3"
  },
  "language_info": {
   "codemirror_mode": {
    "name": "ipython",
    "version": 3
   },
   "file_extension": ".py",
   "mimetype": "text/x-python",
   "name": "python",
   "nbconvert_exporter": "python",
   "pygments_lexer": "ipython3",
   "version": "3.7.6"
  }
 },
 "nbformat": 4,
 "nbformat_minor": 4
}
