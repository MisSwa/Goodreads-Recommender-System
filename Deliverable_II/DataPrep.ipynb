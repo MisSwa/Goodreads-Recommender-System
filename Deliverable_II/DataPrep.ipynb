{
 "cells": [
  {
   "cell_type": "code",
   "execution_count": null,
   "metadata": {},
   "outputs": [],
   "source": [
    "import pandas as pd\n",
    "import os\n",
    "import neo4j\n",
    "import numpy as np"
   ]
  },
  {
   "cell_type": "markdown",
   "metadata": {},
   "source": [
    "# Read books data"
   ]
  },
  {
   "cell_type": "code",
   "execution_count": 426,
   "metadata": {},
   "outputs": [],
   "source": [
    "df = pd.read_json('goodreads_books_poetry.json', lines=True)"
   ]
  },
  {
   "cell_type": "code",
   "execution_count": 427,
   "metadata": {},
   "outputs": [
    {
     "data": {
      "text/html": [
       "<div>\n",
       "<style scoped>\n",
       "    .dataframe tbody tr th:only-of-type {\n",
       "        vertical-align: middle;\n",
       "    }\n",
       "\n",
       "    .dataframe tbody tr th {\n",
       "        vertical-align: top;\n",
       "    }\n",
       "\n",
       "    .dataframe thead th {\n",
       "        text-align: right;\n",
       "    }\n",
       "</style>\n",
       "<table border=\"1\" class=\"dataframe\">\n",
       "  <thead>\n",
       "    <tr style=\"text-align: right;\">\n",
       "      <th></th>\n",
       "      <th>isbn</th>\n",
       "      <th>text_reviews_count</th>\n",
       "      <th>series</th>\n",
       "      <th>country_code</th>\n",
       "      <th>language_code</th>\n",
       "      <th>popular_shelves</th>\n",
       "      <th>asin</th>\n",
       "      <th>is_ebook</th>\n",
       "      <th>average_rating</th>\n",
       "      <th>kindle_asin</th>\n",
       "      <th>...</th>\n",
       "      <th>publication_month</th>\n",
       "      <th>edition_information</th>\n",
       "      <th>publication_year</th>\n",
       "      <th>url</th>\n",
       "      <th>image_url</th>\n",
       "      <th>book_id</th>\n",
       "      <th>ratings_count</th>\n",
       "      <th>work_id</th>\n",
       "      <th>title</th>\n",
       "      <th>title_without_series</th>\n",
       "    </tr>\n",
       "  </thead>\n",
       "  <tbody>\n",
       "    <tr>\n",
       "      <th>0</th>\n",
       "      <td></td>\n",
       "      <td>1</td>\n",
       "      <td>[]</td>\n",
       "      <td>US</td>\n",
       "      <td>eng</td>\n",
       "      <td>[{'count': '8', 'name': 'to-read'}, {'count': ...</td>\n",
       "      <td></td>\n",
       "      <td>false</td>\n",
       "      <td>3.83</td>\n",
       "      <td></td>\n",
       "      <td>...</td>\n",
       "      <td>11</td>\n",
       "      <td></td>\n",
       "      <td>1887</td>\n",
       "      <td>https://www.goodreads.com/book/show/16037549-v...</td>\n",
       "      <td>https://images.gr-assets.com/books/1348176637m...</td>\n",
       "      <td>16037549</td>\n",
       "      <td>3</td>\n",
       "      <td>5212748</td>\n",
       "      <td>Vision of Sir Launfal and Other Poems</td>\n",
       "      <td>Vision of Sir Launfal and Other Poems</td>\n",
       "    </tr>\n",
       "    <tr>\n",
       "      <th>1</th>\n",
       "      <td>0811223981</td>\n",
       "      <td>2</td>\n",
       "      <td>[]</td>\n",
       "      <td>US</td>\n",
       "      <td></td>\n",
       "      <td>[{'count': '100', 'name': 'to-read'}, {'count'...</td>\n",
       "      <td></td>\n",
       "      <td>false</td>\n",
       "      <td>3.83</td>\n",
       "      <td>B00U2WY9U8</td>\n",
       "      <td>...</td>\n",
       "      <td>4</td>\n",
       "      <td></td>\n",
       "      <td>2015</td>\n",
       "      <td>https://www.goodreads.com/book/show/22466716-f...</td>\n",
       "      <td>https://images.gr-assets.com/books/1404958407m...</td>\n",
       "      <td>22466716</td>\n",
       "      <td>37</td>\n",
       "      <td>41905435</td>\n",
       "      <td>Fairy Tales: Dramolettes</td>\n",
       "      <td>Fairy Tales: Dramolettes</td>\n",
       "    </tr>\n",
       "  </tbody>\n",
       "</table>\n",
       "<p>2 rows × 29 columns</p>\n",
       "</div>"
      ],
      "text/plain": [
       "         isbn  text_reviews_count series country_code language_code  \\\n",
       "0                               1     []           US           eng   \n",
       "1  0811223981                   2     []           US                 \n",
       "\n",
       "                                     popular_shelves asin is_ebook  \\\n",
       "0  [{'count': '8', 'name': 'to-read'}, {'count': ...         false   \n",
       "1  [{'count': '100', 'name': 'to-read'}, {'count'...         false   \n",
       "\n",
       "   average_rating kindle_asin  ... publication_month edition_information  \\\n",
       "0            3.83              ...                11                       \n",
       "1            3.83  B00U2WY9U8  ...                 4                       \n",
       "\n",
       "  publication_year                                                url  \\\n",
       "0             1887  https://www.goodreads.com/book/show/16037549-v...   \n",
       "1             2015  https://www.goodreads.com/book/show/22466716-f...   \n",
       "\n",
       "                                           image_url   book_id ratings_count  \\\n",
       "0  https://images.gr-assets.com/books/1348176637m...  16037549             3   \n",
       "1  https://images.gr-assets.com/books/1404958407m...  22466716            37   \n",
       "\n",
       "    work_id                                  title  \\\n",
       "0   5212748  Vision of Sir Launfal and Other Poems   \n",
       "1  41905435               Fairy Tales: Dramolettes   \n",
       "\n",
       "                    title_without_series  \n",
       "0  Vision of Sir Launfal and Other Poems  \n",
       "1               Fairy Tales: Dramolettes  \n",
       "\n",
       "[2 rows x 29 columns]"
      ]
     },
     "execution_count": 427,
     "metadata": {},
     "output_type": "execute_result"
    }
   ],
   "source": [
    "df.head(2)"
   ]
  },
  {
   "cell_type": "code",
   "execution_count": 428,
   "metadata": {},
   "outputs": [
    {
     "data": {
      "text/plain": [
       "Index(['isbn', 'text_reviews_count', 'series', 'country_code', 'language_code',\n",
       "       'popular_shelves', 'asin', 'is_ebook', 'average_rating', 'kindle_asin',\n",
       "       'similar_books', 'description', 'format', 'link', 'authors',\n",
       "       'publisher', 'num_pages', 'publication_day', 'isbn13',\n",
       "       'publication_month', 'edition_information', 'publication_year', 'url',\n",
       "       'image_url', 'book_id', 'ratings_count', 'work_id', 'title',\n",
       "       'title_without_series'],\n",
       "      dtype='object')"
      ]
     },
     "execution_count": 428,
     "metadata": {},
     "output_type": "execute_result"
    }
   ],
   "source": [
    "df.columns"
   ]
  },
  {
   "cell_type": "code",
   "execution_count": 429,
   "metadata": {},
   "outputs": [
    {
     "name": "stdout",
     "output_type": "stream",
     "text": [
      "<class 'pandas.core.frame.DataFrame'>\n",
      "RangeIndex: 36514 entries, 0 to 36513\n",
      "Data columns (total 29 columns):\n",
      " #   Column                Non-Null Count  Dtype  \n",
      "---  ------                --------------  -----  \n",
      " 0   isbn                  36514 non-null  object \n",
      " 1   text_reviews_count    36514 non-null  int64  \n",
      " 2   series                36514 non-null  object \n",
      " 3   country_code          36514 non-null  object \n",
      " 4   language_code         36514 non-null  object \n",
      " 5   popular_shelves       36514 non-null  object \n",
      " 6   asin                  36514 non-null  object \n",
      " 7   is_ebook              36514 non-null  object \n",
      " 8   average_rating        36514 non-null  float64\n",
      " 9   kindle_asin           36514 non-null  object \n",
      " 10  similar_books         36514 non-null  object \n",
      " 11  description           36514 non-null  object \n",
      " 12  format                36514 non-null  object \n",
      " 13  link                  36514 non-null  object \n",
      " 14  authors               36514 non-null  object \n",
      " 15  publisher             36514 non-null  object \n",
      " 16  num_pages             36514 non-null  object \n",
      " 17  publication_day       36514 non-null  object \n",
      " 18  isbn13                36514 non-null  object \n",
      " 19  publication_month     36514 non-null  object \n",
      " 20  edition_information   36514 non-null  object \n",
      " 21  publication_year      36514 non-null  object \n",
      " 22  url                   36514 non-null  object \n",
      " 23  image_url             36514 non-null  object \n",
      " 24  book_id               36514 non-null  int64  \n",
      " 25  ratings_count         36514 non-null  int64  \n",
      " 26  work_id               36514 non-null  int64  \n",
      " 27  title                 36514 non-null  object \n",
      " 28  title_without_series  36514 non-null  object \n",
      "dtypes: float64(1), int64(4), object(24)\n",
      "memory usage: 8.1+ MB\n"
     ]
    }
   ],
   "source": [
    "df.info()"
   ]
  },
  {
   "cell_type": "code",
   "execution_count": 432,
   "metadata": {},
   "outputs": [],
   "source": [
    "df = df.replace('',np.nan)"
   ]
  },
  {
   "cell_type": "code",
   "execution_count": 434,
   "metadata": {},
   "outputs": [],
   "source": [
    "df.drop(columns = ['popular_shelves','isbn','language_code','asin','kindle_asin','edition_information'], inplace = True)"
   ]
  },
  {
   "cell_type": "code",
   "execution_count": 458,
   "metadata": {},
   "outputs": [
    {
     "name": "stdout",
     "output_type": "stream",
     "text": [
      "text_reviews_count 0.0\n",
      "series 0.0\n",
      "country_code 0.0\n",
      "is_ebook 0.0\n",
      "average_rating 0.0\n",
      "similar_books 0.0\n",
      "description 0.0\n",
      "format 0.0\n",
      "link 0.0\n",
      "authors 0.0\n",
      "publisher 0.0\n",
      "num_pages 0.0\n",
      "publication_day 0.0\n",
      "isbn13 0.0\n",
      "publication_month 0.0\n",
      "publication_year 0.0\n",
      "url 0.0\n",
      "image_url 0.0\n",
      "book_id 0.0\n",
      "ratings_count 0.0\n",
      "work_id 0.0\n",
      "title 0.0\n",
      "title_without_series 0.0\n"
     ]
    }
   ],
   "source": [
    "for index, col in enumerate(df.columns):\n",
    "    print(col, df[col].isna().sum()*100/df.shape[0])"
   ]
  },
  {
   "cell_type": "code",
   "execution_count": 446,
   "metadata": {},
   "outputs": [
    {
     "data": {
      "text/plain": [
       "0        1887.0\n",
       "1        2015.0\n",
       "2        2008.0\n",
       "3        1964.0\n",
       "4        2015.0\n",
       "          ...  \n",
       "36509       NaN\n",
       "36510       NaN\n",
       "36511       NaN\n",
       "36512    2013.0\n",
       "36513    1996.0\n",
       "Name: publication_year, Length: 36514, dtype: float64"
      ]
     },
     "execution_count": 446,
     "metadata": {},
     "output_type": "execute_result"
    }
   ],
   "source": [
    "df.text_reviews_count.astype('int64')\n",
    "df.average_rating.astype('float64')\n",
    "df.num_pages.astype('float64')\n",
    "df.publication_month.astype('float64')\n",
    "df.publication_year.astype('float64')"
   ]
  },
  {
   "cell_type": "code",
   "execution_count": 457,
   "metadata": {},
   "outputs": [],
   "source": [
    "df['format'].fillna(df['format'].value_counts().index[0], inplace = True)\n",
    "df['publisher'].fillna(df['publisher'].value_counts().index[0], inplace = True)\n",
    "df['num_pages'].fillna(df['num_pages'].value_counts().index[0], inplace = True)\n",
    "df['publication_day'].fillna(df['publication_day'].value_counts().index[0], inplace = True)\n",
    "df['isbn13'].fillna(df['isbn13'].value_counts().index[0], inplace = True)\n",
    "df['publication_month'].fillna(df['publication_month'].value_counts().index[0], inplace = True)\n",
    "df['publication_year'].fillna(df['publication_year'].value_counts().index[0], inplace = True)\n",
    "df['title'].fillna(df['title'].value_counts().index[0], inplace = True)\n",
    "df['title_without_series'].fillna(df['title_without_series'].value_counts().index[0], inplace = True)\n",
    "df['description'].fillna(df['description'].value_counts().index[0], inplace = True)"
   ]
  },
  {
   "cell_type": "markdown",
   "metadata": {},
   "source": [
    "## Extract authors in a dataframe"
   ]
  },
  {
   "cell_type": "code",
   "execution_count": 459,
   "metadata": {},
   "outputs": [],
   "source": [
    "def extract_author(df, target_col):\n",
    "    temp_df = pd.DataFrame(columns=['book_id', target_col])\n",
    "    for index, row in df[['book_id', 'authors']].dropna().iterrows():\n",
    "        list_of_values = row[1][0]['author_id']\n",
    "        book_id = row[0]\n",
    "        #print([list_of_values])\n",
    "        temp_df = pd.concat([temp_df, pd.DataFrame({'book_id': book_id, target_col: [list_of_values]})])\n",
    "    return temp_df"
   ]
  },
  {
   "cell_type": "code",
   "execution_count": 460,
   "metadata": {},
   "outputs": [],
   "source": [
    "authors_df = extract_author(df, 'author')"
   ]
  },
  {
   "cell_type": "code",
   "execution_count": 461,
   "metadata": {},
   "outputs": [
    {
     "data": {
      "text/html": [
       "<div>\n",
       "<style scoped>\n",
       "    .dataframe tbody tr th:only-of-type {\n",
       "        vertical-align: middle;\n",
       "    }\n",
       "\n",
       "    .dataframe tbody tr th {\n",
       "        vertical-align: top;\n",
       "    }\n",
       "\n",
       "    .dataframe thead th {\n",
       "        text-align: right;\n",
       "    }\n",
       "</style>\n",
       "<table border=\"1\" class=\"dataframe\">\n",
       "  <thead>\n",
       "    <tr style=\"text-align: right;\">\n",
       "      <th></th>\n",
       "      <th>book_id</th>\n",
       "      <th>author</th>\n",
       "    </tr>\n",
       "  </thead>\n",
       "  <tbody>\n",
       "    <tr>\n",
       "      <th>0</th>\n",
       "      <td>16037549</td>\n",
       "      <td>15585</td>\n",
       "    </tr>\n",
       "    <tr>\n",
       "      <th>0</th>\n",
       "      <td>22466716</td>\n",
       "      <td>16073</td>\n",
       "    </tr>\n",
       "  </tbody>\n",
       "</table>\n",
       "</div>"
      ],
      "text/plain": [
       "    book_id author\n",
       "0  16037549  15585\n",
       "0  22466716  16073"
      ]
     },
     "execution_count": 461,
     "metadata": {},
     "output_type": "execute_result"
    }
   ],
   "source": [
    "authors_df.head(2)"
   ]
  },
  {
   "cell_type": "code",
   "execution_count": 462,
   "metadata": {},
   "outputs": [],
   "source": [
    "authors_df.to_csv('authors.csv', index = False)"
   ]
  },
  {
   "cell_type": "markdown",
   "metadata": {},
   "source": [
    "## Extract Publisher"
   ]
  },
  {
   "cell_type": "code",
   "execution_count": 464,
   "metadata": {},
   "outputs": [],
   "source": [
    "publisher_df = df[['book_id','publisher', 'num_pages', 'publication_day', 'isbn13',\n",
    "       'publication_month', 'publication_year']]"
   ]
  },
  {
   "cell_type": "code",
   "execution_count": 465,
   "metadata": {},
   "outputs": [
    {
     "data": {
      "text/html": [
       "<div>\n",
       "<style scoped>\n",
       "    .dataframe tbody tr th:only-of-type {\n",
       "        vertical-align: middle;\n",
       "    }\n",
       "\n",
       "    .dataframe tbody tr th {\n",
       "        vertical-align: top;\n",
       "    }\n",
       "\n",
       "    .dataframe thead th {\n",
       "        text-align: right;\n",
       "    }\n",
       "</style>\n",
       "<table border=\"1\" class=\"dataframe\">\n",
       "  <thead>\n",
       "    <tr style=\"text-align: right;\">\n",
       "      <th></th>\n",
       "      <th>book_id</th>\n",
       "      <th>publisher</th>\n",
       "      <th>num_pages</th>\n",
       "      <th>publication_day</th>\n",
       "      <th>isbn13</th>\n",
       "      <th>publication_month</th>\n",
       "      <th>publication_year</th>\n",
       "    </tr>\n",
       "  </thead>\n",
       "  <tbody>\n",
       "    <tr>\n",
       "      <th>0</th>\n",
       "      <td>16037549</td>\n",
       "      <td>Houghton, Mifflin and Company</td>\n",
       "      <td>80</td>\n",
       "      <td>1</td>\n",
       "      <td>9789548689939</td>\n",
       "      <td>11</td>\n",
       "      <td>1887</td>\n",
       "    </tr>\n",
       "    <tr>\n",
       "      <th>1</th>\n",
       "      <td>22466716</td>\n",
       "      <td>New Directions</td>\n",
       "      <td>128</td>\n",
       "      <td>20</td>\n",
       "      <td>9780811223980</td>\n",
       "      <td>4</td>\n",
       "      <td>2015</td>\n",
       "    </tr>\n",
       "  </tbody>\n",
       "</table>\n",
       "</div>"
      ],
      "text/plain": [
       "    book_id                      publisher num_pages publication_day  \\\n",
       "0  16037549  Houghton, Mifflin and Company        80               1   \n",
       "1  22466716                 New Directions       128              20   \n",
       "\n",
       "          isbn13 publication_month publication_year  \n",
       "0  9789548689939                11             1887  \n",
       "1  9780811223980                 4             2015  "
      ]
     },
     "execution_count": 465,
     "metadata": {},
     "output_type": "execute_result"
    }
   ],
   "source": [
    "publisher_df.head(2)"
   ]
  },
  {
   "cell_type": "code",
   "execution_count": 467,
   "metadata": {},
   "outputs": [],
   "source": [
    "publisher_df = publisher_df[publisher_df.publisher.notna()]"
   ]
  },
  {
   "cell_type": "code",
   "execution_count": 468,
   "metadata": {},
   "outputs": [],
   "source": [
    "publisher_df.to_csv('publisher.csv', index = False)"
   ]
  },
  {
   "cell_type": "markdown",
   "metadata": {},
   "source": [
    "## Extract similar books"
   ]
  },
  {
   "cell_type": "code",
   "execution_count": 469,
   "metadata": {},
   "outputs": [],
   "source": [
    "def extract_similarBooks(df, target_col):\n",
    "    temp_df = pd.DataFrame(columns=['book_id', target_col])\n",
    "    for index, row in df[['book_id', 'similar_books']].dropna().iterrows():\n",
    "        list_of_values = row[1]\n",
    "        book_id = row[0]\n",
    "        temp_df = pd.concat([temp_df, pd.DataFrame({'book_id': book_id, target_col: list_of_values})])\n",
    "    return temp_df"
   ]
  },
  {
   "cell_type": "code",
   "execution_count": 472,
   "metadata": {},
   "outputs": [
    {
     "ename": "KeyboardInterrupt",
     "evalue": "",
     "output_type": "error",
     "traceback": [
      "\u001b[0;31m---------------------------------------------------------------------------\u001b[0m",
      "\u001b[0;31mKeyboardInterrupt\u001b[0m                         Traceback (most recent call last)",
      "\u001b[0;32m<ipython-input-472-d31b5f245282>\u001b[0m in \u001b[0;36m<module>\u001b[0;34m\u001b[0m\n\u001b[0;32m----> 1\u001b[0;31m \u001b[0msimilarBooks_df\u001b[0m \u001b[0;34m=\u001b[0m \u001b[0mextract_similarBooks\u001b[0m\u001b[0;34m(\u001b[0m\u001b[0mdf\u001b[0m\u001b[0;34m,\u001b[0m\u001b[0;34m'similar_books'\u001b[0m\u001b[0;34m)\u001b[0m\u001b[0;34m\u001b[0m\u001b[0;34m\u001b[0m\u001b[0m\n\u001b[0m",
      "\u001b[0;32m<ipython-input-469-3a2dc0b65c20>\u001b[0m in \u001b[0;36mextract_similarBooks\u001b[0;34m(df, target_col)\u001b[0m\n\u001b[1;32m      1\u001b[0m \u001b[0;32mdef\u001b[0m \u001b[0mextract_similarBooks\u001b[0m\u001b[0;34m(\u001b[0m\u001b[0mdf\u001b[0m\u001b[0;34m,\u001b[0m \u001b[0mtarget_col\u001b[0m\u001b[0;34m)\u001b[0m\u001b[0;34m:\u001b[0m\u001b[0;34m\u001b[0m\u001b[0;34m\u001b[0m\u001b[0m\n\u001b[1;32m      2\u001b[0m     \u001b[0mtemp_df\u001b[0m \u001b[0;34m=\u001b[0m \u001b[0mpd\u001b[0m\u001b[0;34m.\u001b[0m\u001b[0mDataFrame\u001b[0m\u001b[0;34m(\u001b[0m\u001b[0mcolumns\u001b[0m\u001b[0;34m=\u001b[0m\u001b[0;34m[\u001b[0m\u001b[0;34m'book_id'\u001b[0m\u001b[0;34m,\u001b[0m \u001b[0mtarget_col\u001b[0m\u001b[0;34m]\u001b[0m\u001b[0;34m)\u001b[0m\u001b[0;34m\u001b[0m\u001b[0;34m\u001b[0m\u001b[0m\n\u001b[0;32m----> 3\u001b[0;31m     \u001b[0;32mfor\u001b[0m \u001b[0mindex\u001b[0m\u001b[0;34m,\u001b[0m \u001b[0mrow\u001b[0m \u001b[0;32min\u001b[0m \u001b[0mdf\u001b[0m\u001b[0;34m[\u001b[0m\u001b[0;34m[\u001b[0m\u001b[0;34m'book_id'\u001b[0m\u001b[0;34m,\u001b[0m \u001b[0;34m'similar_books'\u001b[0m\u001b[0;34m]\u001b[0m\u001b[0;34m]\u001b[0m\u001b[0;34m.\u001b[0m\u001b[0mdropna\u001b[0m\u001b[0;34m(\u001b[0m\u001b[0;34m)\u001b[0m\u001b[0;34m.\u001b[0m\u001b[0miterrows\u001b[0m\u001b[0;34m(\u001b[0m\u001b[0;34m)\u001b[0m\u001b[0;34m:\u001b[0m\u001b[0;34m\u001b[0m\u001b[0;34m\u001b[0m\u001b[0m\n\u001b[0m\u001b[1;32m      4\u001b[0m         \u001b[0mlist_of_values\u001b[0m \u001b[0;34m=\u001b[0m \u001b[0mrow\u001b[0m\u001b[0;34m[\u001b[0m\u001b[0;36m1\u001b[0m\u001b[0;34m]\u001b[0m\u001b[0;34m\u001b[0m\u001b[0;34m\u001b[0m\u001b[0m\n\u001b[1;32m      5\u001b[0m         \u001b[0mbook_id\u001b[0m \u001b[0;34m=\u001b[0m \u001b[0mrow\u001b[0m\u001b[0;34m[\u001b[0m\u001b[0;36m0\u001b[0m\u001b[0;34m]\u001b[0m\u001b[0;34m\u001b[0m\u001b[0;34m\u001b[0m\u001b[0m\n",
      "\u001b[0;32m/opt/anaconda3/lib/python3.7/site-packages/pandas/core/frame.py\u001b[0m in \u001b[0;36miterrows\u001b[0;34m(self)\u001b[0m\n\u001b[1;32m    950\u001b[0m         \u001b[0mklass\u001b[0m \u001b[0;34m=\u001b[0m \u001b[0mself\u001b[0m\u001b[0;34m.\u001b[0m\u001b[0m_constructor_sliced\u001b[0m\u001b[0;34m\u001b[0m\u001b[0;34m\u001b[0m\u001b[0m\n\u001b[1;32m    951\u001b[0m         \u001b[0;32mfor\u001b[0m \u001b[0mk\u001b[0m\u001b[0;34m,\u001b[0m \u001b[0mv\u001b[0m \u001b[0;32min\u001b[0m \u001b[0mzip\u001b[0m\u001b[0;34m(\u001b[0m\u001b[0mself\u001b[0m\u001b[0;34m.\u001b[0m\u001b[0mindex\u001b[0m\u001b[0;34m,\u001b[0m \u001b[0mself\u001b[0m\u001b[0;34m.\u001b[0m\u001b[0mvalues\u001b[0m\u001b[0;34m)\u001b[0m\u001b[0;34m:\u001b[0m\u001b[0;34m\u001b[0m\u001b[0;34m\u001b[0m\u001b[0m\n\u001b[0;32m--> 952\u001b[0;31m             \u001b[0ms\u001b[0m \u001b[0;34m=\u001b[0m \u001b[0mklass\u001b[0m\u001b[0;34m(\u001b[0m\u001b[0mv\u001b[0m\u001b[0;34m,\u001b[0m \u001b[0mindex\u001b[0m\u001b[0;34m=\u001b[0m\u001b[0mcolumns\u001b[0m\u001b[0;34m,\u001b[0m \u001b[0mname\u001b[0m\u001b[0;34m=\u001b[0m\u001b[0mk\u001b[0m\u001b[0;34m)\u001b[0m\u001b[0;34m\u001b[0m\u001b[0;34m\u001b[0m\u001b[0m\n\u001b[0m\u001b[1;32m    953\u001b[0m             \u001b[0;32myield\u001b[0m \u001b[0mk\u001b[0m\u001b[0;34m,\u001b[0m \u001b[0ms\u001b[0m\u001b[0;34m\u001b[0m\u001b[0;34m\u001b[0m\u001b[0m\n\u001b[1;32m    954\u001b[0m \u001b[0;34m\u001b[0m\u001b[0m\n",
      "\u001b[0;32m/opt/anaconda3/lib/python3.7/site-packages/pandas/core/series.py\u001b[0m in \u001b[0;36m__init__\u001b[0;34m(self, data, index, dtype, name, copy, fastpath)\u001b[0m\n\u001b[1;32m    303\u001b[0m                     \u001b[0mdata\u001b[0m \u001b[0;34m=\u001b[0m \u001b[0mdata\u001b[0m\u001b[0;34m.\u001b[0m\u001b[0mcopy\u001b[0m\u001b[0;34m(\u001b[0m\u001b[0;34m)\u001b[0m\u001b[0;34m\u001b[0m\u001b[0;34m\u001b[0m\u001b[0m\n\u001b[1;32m    304\u001b[0m             \u001b[0;32melse\u001b[0m\u001b[0;34m:\u001b[0m\u001b[0;34m\u001b[0m\u001b[0;34m\u001b[0m\u001b[0m\n\u001b[0;32m--> 305\u001b[0;31m                 \u001b[0mdata\u001b[0m \u001b[0;34m=\u001b[0m \u001b[0msanitize_array\u001b[0m\u001b[0;34m(\u001b[0m\u001b[0mdata\u001b[0m\u001b[0;34m,\u001b[0m \u001b[0mindex\u001b[0m\u001b[0;34m,\u001b[0m \u001b[0mdtype\u001b[0m\u001b[0;34m,\u001b[0m \u001b[0mcopy\u001b[0m\u001b[0;34m,\u001b[0m \u001b[0mraise_cast_failure\u001b[0m\u001b[0;34m=\u001b[0m\u001b[0;32mTrue\u001b[0m\u001b[0;34m)\u001b[0m\u001b[0;34m\u001b[0m\u001b[0;34m\u001b[0m\u001b[0m\n\u001b[0m\u001b[1;32m    306\u001b[0m \u001b[0;34m\u001b[0m\u001b[0m\n\u001b[1;32m    307\u001b[0m                 \u001b[0mdata\u001b[0m \u001b[0;34m=\u001b[0m \u001b[0mSingleBlockManager\u001b[0m\u001b[0;34m(\u001b[0m\u001b[0mdata\u001b[0m\u001b[0;34m,\u001b[0m \u001b[0mindex\u001b[0m\u001b[0;34m,\u001b[0m \u001b[0mfastpath\u001b[0m\u001b[0;34m=\u001b[0m\u001b[0;32mTrue\u001b[0m\u001b[0;34m)\u001b[0m\u001b[0;34m\u001b[0m\u001b[0;34m\u001b[0m\u001b[0m\n",
      "\u001b[0;32m/opt/anaconda3/lib/python3.7/site-packages/pandas/core/construction.py\u001b[0m in \u001b[0;36msanitize_array\u001b[0;34m(data, index, dtype, copy, raise_cast_failure)\u001b[0m\n\u001b[1;32m    406\u001b[0m \u001b[0;34m\u001b[0m\u001b[0m\n\u001b[1;32m    407\u001b[0m     \u001b[0;31m# extract ndarray or ExtensionArray, ensure we have no PandasArray\u001b[0m\u001b[0;34m\u001b[0m\u001b[0;34m\u001b[0m\u001b[0;34m\u001b[0m\u001b[0m\n\u001b[0;32m--> 408\u001b[0;31m     \u001b[0mdata\u001b[0m \u001b[0;34m=\u001b[0m \u001b[0mextract_array\u001b[0m\u001b[0;34m(\u001b[0m\u001b[0mdata\u001b[0m\u001b[0;34m,\u001b[0m \u001b[0mextract_numpy\u001b[0m\u001b[0;34m=\u001b[0m\u001b[0;32mTrue\u001b[0m\u001b[0;34m)\u001b[0m\u001b[0;34m\u001b[0m\u001b[0;34m\u001b[0m\u001b[0m\n\u001b[0m\u001b[1;32m    409\u001b[0m \u001b[0;34m\u001b[0m\u001b[0m\n\u001b[1;32m    410\u001b[0m     \u001b[0;31m# GH#846\u001b[0m\u001b[0;34m\u001b[0m\u001b[0;34m\u001b[0m\u001b[0;34m\u001b[0m\u001b[0m\n",
      "\u001b[0;32m/opt/anaconda3/lib/python3.7/site-packages/pandas/core/construction.py\u001b[0m in \u001b[0;36mextract_array\u001b[0;34m(obj, extract_numpy)\u001b[0m\n\u001b[1;32m    335\u001b[0m \u001b[0;34m\u001b[0m\u001b[0m\n\u001b[1;32m    336\u001b[0m \u001b[0;34m\u001b[0m\u001b[0m\n\u001b[0;32m--> 337\u001b[0;31m \u001b[0;32mdef\u001b[0m \u001b[0mextract_array\u001b[0m\u001b[0;34m(\u001b[0m\u001b[0mobj\u001b[0m\u001b[0;34m,\u001b[0m \u001b[0mextract_numpy\u001b[0m\u001b[0;34m=\u001b[0m\u001b[0;32mFalse\u001b[0m\u001b[0;34m)\u001b[0m\u001b[0;34m:\u001b[0m\u001b[0;34m\u001b[0m\u001b[0;34m\u001b[0m\u001b[0m\n\u001b[0m\u001b[1;32m    338\u001b[0m     \"\"\"\n\u001b[1;32m    339\u001b[0m     \u001b[0mExtract\u001b[0m \u001b[0mthe\u001b[0m \u001b[0mndarray\u001b[0m \u001b[0;32mor\u001b[0m \u001b[0mExtensionArray\u001b[0m \u001b[0;32mfrom\u001b[0m \u001b[0ma\u001b[0m \u001b[0mSeries\u001b[0m \u001b[0;32mor\u001b[0m \u001b[0mIndex\u001b[0m\u001b[0;34m.\u001b[0m\u001b[0;34m\u001b[0m\u001b[0;34m\u001b[0m\u001b[0m\n",
      "\u001b[0;31mKeyboardInterrupt\u001b[0m: "
     ]
    }
   ],
   "source": [
    "similarBooks_df = extract_similarBooks(df,'similar_books')"
   ]
  },
  {
   "cell_type": "code",
   "execution_count": 471,
   "metadata": {},
   "outputs": [
    {
     "data": {
      "text/html": [
       "<div>\n",
       "<style scoped>\n",
       "    .dataframe tbody tr th:only-of-type {\n",
       "        vertical-align: middle;\n",
       "    }\n",
       "\n",
       "    .dataframe tbody tr th {\n",
       "        vertical-align: top;\n",
       "    }\n",
       "\n",
       "    .dataframe thead th {\n",
       "        text-align: right;\n",
       "    }\n",
       "</style>\n",
       "<table border=\"1\" class=\"dataframe\">\n",
       "  <thead>\n",
       "    <tr style=\"text-align: right;\">\n",
       "      <th></th>\n",
       "      <th>book_id</th>\n",
       "      <th>similar_books</th>\n",
       "    </tr>\n",
       "  </thead>\n",
       "  <tbody>\n",
       "    <tr>\n",
       "      <th>0</th>\n",
       "      <td>926667</td>\n",
       "      <td>1230072</td>\n",
       "    </tr>\n",
       "    <tr>\n",
       "      <th>1</th>\n",
       "      <td>926667</td>\n",
       "      <td>315167</td>\n",
       "    </tr>\n",
       "  </tbody>\n",
       "</table>\n",
       "</div>"
      ],
      "text/plain": [
       "  book_id similar_books\n",
       "0  926667       1230072\n",
       "1  926667        315167"
      ]
     },
     "execution_count": 471,
     "metadata": {},
     "output_type": "execute_result"
    }
   ],
   "source": [
    "similarBooks_df.head(2)"
   ]
  },
  {
   "cell_type": "code",
   "execution_count": null,
   "metadata": {},
   "outputs": [],
   "source": [
    "similarBooks_df.to_csv('similarBooks.csv', index = False)"
   ]
  },
  {
   "cell_type": "markdown",
   "metadata": {},
   "source": [
    "## Extract series"
   ]
  },
  {
   "cell_type": "code",
   "execution_count": null,
   "metadata": {},
   "outputs": [],
   "source": [
    "def extract_series(df, target_col):\n",
    "    temp_df = pd.DataFrame(columns=['book_id', target_col])\n",
    "    for index, row in df[['book_id', 'series']].dropna().iterrows():\n",
    "        list_of_values = row[1]\n",
    "        book_id = row[0]\n",
    "        temp_df = pd.concat([temp_df, pd.DataFrame({'book_id': book_id, target_col: list_of_values})])\n",
    "    return temp_df"
   ]
  },
  {
   "cell_type": "code",
   "execution_count": null,
   "metadata": {},
   "outputs": [],
   "source": [
    "series_df = extract_series(df, 'series')"
   ]
  },
  {
   "cell_type": "code",
   "execution_count": null,
   "metadata": {},
   "outputs": [],
   "source": [
    "series_df.head(2)"
   ]
  },
  {
   "cell_type": "code",
   "execution_count": null,
   "metadata": {},
   "outputs": [],
   "source": [
    "series_df.to_csv('bookSeries.csv', index = False)"
   ]
  },
  {
   "cell_type": "markdown",
   "metadata": {},
   "source": [
    "## Extract books alone"
   ]
  },
  {
   "cell_type": "code",
   "execution_count": 474,
   "metadata": {},
   "outputs": [
    {
     "data": {
      "text/plain": [
       "Index(['text_reviews_count', 'series', 'country_code', 'is_ebook',\n",
       "       'average_rating', 'similar_books', 'description', 'format', 'link',\n",
       "       'authors', 'publisher', 'num_pages', 'publication_day', 'isbn13',\n",
       "       'publication_month', 'publication_year', 'url', 'image_url', 'book_id',\n",
       "       'ratings_count', 'work_id', 'title', 'title_without_series'],\n",
       "      dtype='object')"
      ]
     },
     "execution_count": 474,
     "metadata": {},
     "output_type": "execute_result"
    }
   ],
   "source": [
    "df.columns"
   ]
  },
  {
   "cell_type": "code",
   "execution_count": 475,
   "metadata": {},
   "outputs": [],
   "source": [
    "books_df = df[['book_id', 'text_reviews_count', 'country_code',\n",
    "       'is_ebook', 'average_rating', 'description', 'format', 'link', 'url',\n",
    "       'image_url', 'ratings_count', 'work_id', 'title',\n",
    "       'title_without_series']]"
   ]
  },
  {
   "cell_type": "code",
   "execution_count": 476,
   "metadata": {},
   "outputs": [
    {
     "data": {
      "text/html": [
       "<div>\n",
       "<style scoped>\n",
       "    .dataframe tbody tr th:only-of-type {\n",
       "        vertical-align: middle;\n",
       "    }\n",
       "\n",
       "    .dataframe tbody tr th {\n",
       "        vertical-align: top;\n",
       "    }\n",
       "\n",
       "    .dataframe thead th {\n",
       "        text-align: right;\n",
       "    }\n",
       "</style>\n",
       "<table border=\"1\" class=\"dataframe\">\n",
       "  <thead>\n",
       "    <tr style=\"text-align: right;\">\n",
       "      <th></th>\n",
       "      <th>book_id</th>\n",
       "      <th>text_reviews_count</th>\n",
       "      <th>country_code</th>\n",
       "      <th>is_ebook</th>\n",
       "      <th>average_rating</th>\n",
       "      <th>description</th>\n",
       "      <th>format</th>\n",
       "      <th>link</th>\n",
       "      <th>url</th>\n",
       "      <th>image_url</th>\n",
       "      <th>ratings_count</th>\n",
       "      <th>work_id</th>\n",
       "      <th>title</th>\n",
       "      <th>title_without_series</th>\n",
       "    </tr>\n",
       "  </thead>\n",
       "  <tbody>\n",
       "    <tr>\n",
       "      <th>0</th>\n",
       "      <td>16037549</td>\n",
       "      <td>1</td>\n",
       "      <td>US</td>\n",
       "      <td>false</td>\n",
       "      <td>3.83</td>\n",
       "      <td>Number 30 in a series of literary pamphlets pu...</td>\n",
       "      <td>Paperback</td>\n",
       "      <td>https://www.goodreads.com/book/show/16037549-v...</td>\n",
       "      <td>https://www.goodreads.com/book/show/16037549-v...</td>\n",
       "      <td>https://images.gr-assets.com/books/1348176637m...</td>\n",
       "      <td>3</td>\n",
       "      <td>5212748</td>\n",
       "      <td>Vision of Sir Launfal and Other Poems</td>\n",
       "      <td>Vision of Sir Launfal and Other Poems</td>\n",
       "    </tr>\n",
       "    <tr>\n",
       "      <th>1</th>\n",
       "      <td>22466716</td>\n",
       "      <td>2</td>\n",
       "      <td>US</td>\n",
       "      <td>false</td>\n",
       "      <td>3.83</td>\n",
       "      <td>Fairy Tales gathers the unconventional verse d...</td>\n",
       "      <td>Paperback</td>\n",
       "      <td>https://www.goodreads.com/book/show/22466716-f...</td>\n",
       "      <td>https://www.goodreads.com/book/show/22466716-f...</td>\n",
       "      <td>https://images.gr-assets.com/books/1404958407m...</td>\n",
       "      <td>37</td>\n",
       "      <td>41905435</td>\n",
       "      <td>Fairy Tales: Dramolettes</td>\n",
       "      <td>Fairy Tales: Dramolettes</td>\n",
       "    </tr>\n",
       "  </tbody>\n",
       "</table>\n",
       "</div>"
      ],
      "text/plain": [
       "    book_id  text_reviews_count country_code is_ebook  average_rating  \\\n",
       "0  16037549                   1           US    false            3.83   \n",
       "1  22466716                   2           US    false            3.83   \n",
       "\n",
       "                                         description     format  \\\n",
       "0  Number 30 in a series of literary pamphlets pu...  Paperback   \n",
       "1  Fairy Tales gathers the unconventional verse d...  Paperback   \n",
       "\n",
       "                                                link  \\\n",
       "0  https://www.goodreads.com/book/show/16037549-v...   \n",
       "1  https://www.goodreads.com/book/show/22466716-f...   \n",
       "\n",
       "                                                 url  \\\n",
       "0  https://www.goodreads.com/book/show/16037549-v...   \n",
       "1  https://www.goodreads.com/book/show/22466716-f...   \n",
       "\n",
       "                                           image_url  ratings_count   work_id  \\\n",
       "0  https://images.gr-assets.com/books/1348176637m...              3   5212748   \n",
       "1  https://images.gr-assets.com/books/1404958407m...             37  41905435   \n",
       "\n",
       "                                   title  \\\n",
       "0  Vision of Sir Launfal and Other Poems   \n",
       "1               Fairy Tales: Dramolettes   \n",
       "\n",
       "                    title_without_series  \n",
       "0  Vision of Sir Launfal and Other Poems  \n",
       "1               Fairy Tales: Dramolettes  "
      ]
     },
     "execution_count": 476,
     "metadata": {},
     "output_type": "execute_result"
    }
   ],
   "source": [
    "books_df.head(2)"
   ]
  },
  {
   "cell_type": "code",
   "execution_count": 477,
   "metadata": {},
   "outputs": [],
   "source": [
    "ebooks_df = books_df[books_df.is_ebook == 'true']"
   ]
  },
  {
   "cell_type": "code",
   "execution_count": 478,
   "metadata": {},
   "outputs": [],
   "source": [
    "not_ebooks_df = books_df[books_df.is_ebook == 'false']"
   ]
  },
  {
   "cell_type": "code",
   "execution_count": 503,
   "metadata": {},
   "outputs": [],
   "source": [
    "ebooks_df.to_csv('ebooks.csv', index = False)\n",
    "#not_ebooks_df.to_csv('not_ebooks.csv', index = False)"
   ]
  },
  {
   "cell_type": "code",
   "execution_count": 480,
   "metadata": {},
   "outputs": [],
   "source": [
    "not_ebooks = not_ebooks_df.copy()"
   ]
  },
  {
   "cell_type": "code",
   "execution_count": 481,
   "metadata": {},
   "outputs": [],
   "source": [
    "not_ebooks.description = not_ebooks.description.apply(lambda x: x.replace('\"', \"'\"))\n",
    "not_ebooks.title = not_ebooks.title.apply(lambda x: x.replace('\"', \"'\"))\n",
    "not_ebooks.title_without_series = not_ebooks.title_without_series.apply(lambda x: x.replace('\"', \"'\"))"
   ]
  },
  {
   "cell_type": "code",
   "execution_count": 482,
   "metadata": {},
   "outputs": [],
   "source": [
    "not_ebooks.to_csv('not_ebooks.csv', index = False)"
   ]
  },
  {
   "cell_type": "code",
   "execution_count": 483,
   "metadata": {},
   "outputs": [
    {
     "data": {
      "text/html": [
       "<div>\n",
       "<style scoped>\n",
       "    .dataframe tbody tr th:only-of-type {\n",
       "        vertical-align: middle;\n",
       "    }\n",
       "\n",
       "    .dataframe tbody tr th {\n",
       "        vertical-align: top;\n",
       "    }\n",
       "\n",
       "    .dataframe thead th {\n",
       "        text-align: right;\n",
       "    }\n",
       "</style>\n",
       "<table border=\"1\" class=\"dataframe\">\n",
       "  <thead>\n",
       "    <tr style=\"text-align: right;\">\n",
       "      <th></th>\n",
       "      <th>book_id</th>\n",
       "      <th>text_reviews_count</th>\n",
       "      <th>country_code</th>\n",
       "      <th>is_ebook</th>\n",
       "      <th>average_rating</th>\n",
       "      <th>description</th>\n",
       "      <th>format</th>\n",
       "      <th>link</th>\n",
       "      <th>url</th>\n",
       "      <th>image_url</th>\n",
       "      <th>ratings_count</th>\n",
       "      <th>work_id</th>\n",
       "      <th>title</th>\n",
       "      <th>title_without_series</th>\n",
       "    </tr>\n",
       "  </thead>\n",
       "  <tbody>\n",
       "  </tbody>\n",
       "</table>\n",
       "</div>"
      ],
      "text/plain": [
       "Empty DataFrame\n",
       "Columns: [book_id, text_reviews_count, country_code, is_ebook, average_rating, description, format, link, url, image_url, ratings_count, work_id, title, title_without_series]\n",
       "Index: []"
      ]
     },
     "execution_count": 483,
     "metadata": {},
     "output_type": "execute_result"
    }
   ],
   "source": [
    "not_ebooks[not_ebooks.apply(lambda row: row.astype(str).str.contains(\"\\\"\").any(), axis=1)]"
   ]
  },
  {
   "cell_type": "markdown",
   "metadata": {},
   "source": [
    "# Read reviews data"
   ]
  },
  {
   "cell_type": "code",
   "execution_count": 485,
   "metadata": {},
   "outputs": [],
   "source": [
    "df_reviews = pd.read_json('goodreads_reviews_poetry.json', lines=True)"
   ]
  },
  {
   "cell_type": "code",
   "execution_count": 486,
   "metadata": {},
   "outputs": [
    {
     "data": {
      "text/plain": [
       "Index(['user_id', 'book_id', 'review_id', 'rating', 'review_text',\n",
       "       'date_added', 'date_updated', 'read_at', 'started_at', 'n_votes',\n",
       "       'n_comments'],\n",
       "      dtype='object')"
      ]
     },
     "execution_count": 486,
     "metadata": {},
     "output_type": "execute_result"
    }
   ],
   "source": [
    "df_reviews.columns"
   ]
  },
  {
   "cell_type": "code",
   "execution_count": 487,
   "metadata": {},
   "outputs": [
    {
     "data": {
      "text/html": [
       "<div>\n",
       "<style scoped>\n",
       "    .dataframe tbody tr th:only-of-type {\n",
       "        vertical-align: middle;\n",
       "    }\n",
       "\n",
       "    .dataframe tbody tr th {\n",
       "        vertical-align: top;\n",
       "    }\n",
       "\n",
       "    .dataframe thead th {\n",
       "        text-align: right;\n",
       "    }\n",
       "</style>\n",
       "<table border=\"1\" class=\"dataframe\">\n",
       "  <thead>\n",
       "    <tr style=\"text-align: right;\">\n",
       "      <th></th>\n",
       "      <th>user_id</th>\n",
       "      <th>book_id</th>\n",
       "      <th>review_id</th>\n",
       "      <th>rating</th>\n",
       "      <th>review_text</th>\n",
       "      <th>date_added</th>\n",
       "      <th>date_updated</th>\n",
       "      <th>read_at</th>\n",
       "      <th>started_at</th>\n",
       "      <th>n_votes</th>\n",
       "      <th>n_comments</th>\n",
       "    </tr>\n",
       "  </thead>\n",
       "  <tbody>\n",
       "    <tr>\n",
       "      <th>0</th>\n",
       "      <td>3ca7375dba942a760e53b726c472a7dd</td>\n",
       "      <td>402128</td>\n",
       "      <td>28423ff309bc896c071a8d9df4a10e8a</td>\n",
       "      <td>5</td>\n",
       "      <td>I have three younger siblings and we grew up w...</td>\n",
       "      <td>Tue Jun 12 08:59:04 -0700 2012</td>\n",
       "      <td>Fri Jun 15 11:41:12 -0700 2012</td>\n",
       "      <td></td>\n",
       "      <td></td>\n",
       "      <td>0</td>\n",
       "      <td>0</td>\n",
       "    </tr>\n",
       "    <tr>\n",
       "      <th>1</th>\n",
       "      <td>0ef32090550901ead25cb0ea21c4d36b</td>\n",
       "      <td>92270</td>\n",
       "      <td>2db1180992e2b0b1631a3ac5644bde84</td>\n",
       "      <td>5</td>\n",
       "      <td>This is my favorite collection of poetry.</td>\n",
       "      <td>Mon Apr 14 18:42:40 -0700 2014</td>\n",
       "      <td>Mon Apr 14 18:43:05 -0700 2014</td>\n",
       "      <td>Wed Jan 01 00:00:00 -0800 1997</td>\n",
       "      <td></td>\n",
       "      <td>0</td>\n",
       "      <td>0</td>\n",
       "    </tr>\n",
       "    <tr>\n",
       "      <th>2</th>\n",
       "      <td>0ef32090550901ead25cb0ea21c4d36b</td>\n",
       "      <td>908708</td>\n",
       "      <td>bca57fa40e92c9261b00b03dbebd96fe</td>\n",
       "      <td>4</td>\n",
       "      <td>He's so disturbing. So very, very disturbing.</td>\n",
       "      <td>Tue Apr 22 13:58:10 -0700 2008</td>\n",
       "      <td>Tue Apr 22 13:58:33 -0700 2008</td>\n",
       "      <td></td>\n",
       "      <td></td>\n",
       "      <td>0</td>\n",
       "      <td>0</td>\n",
       "    </tr>\n",
       "  </tbody>\n",
       "</table>\n",
       "</div>"
      ],
      "text/plain": [
       "                            user_id  book_id  \\\n",
       "0  3ca7375dba942a760e53b726c472a7dd   402128   \n",
       "1  0ef32090550901ead25cb0ea21c4d36b    92270   \n",
       "2  0ef32090550901ead25cb0ea21c4d36b   908708   \n",
       "\n",
       "                          review_id  rating  \\\n",
       "0  28423ff309bc896c071a8d9df4a10e8a       5   \n",
       "1  2db1180992e2b0b1631a3ac5644bde84       5   \n",
       "2  bca57fa40e92c9261b00b03dbebd96fe       4   \n",
       "\n",
       "                                         review_text  \\\n",
       "0  I have three younger siblings and we grew up w...   \n",
       "1          This is my favorite collection of poetry.   \n",
       "2      He's so disturbing. So very, very disturbing.   \n",
       "\n",
       "                       date_added                    date_updated  \\\n",
       "0  Tue Jun 12 08:59:04 -0700 2012  Fri Jun 15 11:41:12 -0700 2012   \n",
       "1  Mon Apr 14 18:42:40 -0700 2014  Mon Apr 14 18:43:05 -0700 2014   \n",
       "2  Tue Apr 22 13:58:10 -0700 2008  Tue Apr 22 13:58:33 -0700 2008   \n",
       "\n",
       "                          read_at started_at  n_votes  n_comments  \n",
       "0                                                   0           0  \n",
       "1  Wed Jan 01 00:00:00 -0800 1997                   0           0  \n",
       "2                                                   0           0  "
      ]
     },
     "execution_count": 487,
     "metadata": {},
     "output_type": "execute_result"
    }
   ],
   "source": [
    "df_reviews.head(3)"
   ]
  },
  {
   "cell_type": "code",
   "execution_count": 488,
   "metadata": {},
   "outputs": [
    {
     "data": {
      "text/html": [
       "<div>\n",
       "<style scoped>\n",
       "    .dataframe tbody tr th:only-of-type {\n",
       "        vertical-align: middle;\n",
       "    }\n",
       "\n",
       "    .dataframe tbody tr th {\n",
       "        vertical-align: top;\n",
       "    }\n",
       "\n",
       "    .dataframe thead th {\n",
       "        text-align: right;\n",
       "    }\n",
       "</style>\n",
       "<table border=\"1\" class=\"dataframe\">\n",
       "  <thead>\n",
       "    <tr style=\"text-align: right;\">\n",
       "      <th></th>\n",
       "      <th>user_id</th>\n",
       "      <th>book_id</th>\n",
       "      <th>review_id</th>\n",
       "      <th>rating</th>\n",
       "      <th>review_text</th>\n",
       "      <th>date_added</th>\n",
       "      <th>date_updated</th>\n",
       "      <th>read_at</th>\n",
       "      <th>started_at</th>\n",
       "      <th>n_votes</th>\n",
       "      <th>n_comments</th>\n",
       "    </tr>\n",
       "  </thead>\n",
       "  <tbody>\n",
       "    <tr>\n",
       "      <th>12</th>\n",
       "      <td>d0c8e4089c1435ff9e1ab3f2bc5f88ff</td>\n",
       "      <td>5885639</td>\n",
       "      <td>73acf3ef1555145e264933740c43f5d0</td>\n",
       "      <td>4</td>\n",
       "      <td>k`d@ frwq jwyd@ y'sr lqr bqSy'dh l`dhb@ lmlyy'...</td>\n",
       "      <td>Sat Dec 21 01:53:55 -0800 2013</td>\n",
       "      <td>Sun Dec 22 00:25:03 -0800 2013</td>\n",
       "      <td>Fri Dec 20 00:00:00 -0800 2013</td>\n",
       "      <td></td>\n",
       "      <td>2</td>\n",
       "      <td>0</td>\n",
       "    </tr>\n",
       "    <tr>\n",
       "      <th>13</th>\n",
       "      <td>d0c8e4089c1435ff9e1ab3f2bc5f88ff</td>\n",
       "      <td>5948950</td>\n",
       "      <td>23a0016b3f4675a69e64e84a19b27359</td>\n",
       "      <td>5</td>\n",
       "      <td>jmyl jd [?][?] \\n \" lmdh 'rki `l~ klW shy bqy ...</td>\n",
       "      <td>Sat Dec 21 00:33:02 -0800 2013</td>\n",
       "      <td>Sun Dec 22 00:25:23 -0800 2013</td>\n",
       "      <td>Fri Dec 20 00:00:00 -0800 2013</td>\n",
       "      <td></td>\n",
       "      <td>0</td>\n",
       "      <td>0</td>\n",
       "    </tr>\n",
       "    <tr>\n",
       "      <th>15</th>\n",
       "      <td>f88032f4ad97b46654fe59ce3387cf5d</td>\n",
       "      <td>23668465</td>\n",
       "      <td>ab273055bf0e8defc685e1cea51899c2</td>\n",
       "      <td>4</td>\n",
       "      <td>Beyond the Words is an anthology of poetry and...</td>\n",
       "      <td>Thu Jul 23 17:25:59 -0700 2015</td>\n",
       "      <td>Sat Oct 17 00:19:55 -0700 2015</td>\n",
       "      <td>Thu Oct 01 00:00:00 -0700 2015</td>\n",
       "      <td>Thu Jul 23 00:00:00 -0700 2015</td>\n",
       "      <td>1</td>\n",
       "      <td>0</td>\n",
       "    </tr>\n",
       "    <tr>\n",
       "      <th>16</th>\n",
       "      <td>f88032f4ad97b46654fe59ce3387cf5d</td>\n",
       "      <td>18600808</td>\n",
       "      <td>4415c79a0d78929a39018111d4a8565a</td>\n",
       "      <td>0</td>\n",
       "      <td>Thoughts of a Pure Mind by Calvin Bland is a c...</td>\n",
       "      <td>Sun Mar 23 06:32:03 -0700 2014</td>\n",
       "      <td>Sun Mar 23 06:35:12 -0700 2014</td>\n",
       "      <td>Tue Jan 01 00:00:00 -0800 2013</td>\n",
       "      <td></td>\n",
       "      <td>1</td>\n",
       "      <td>0</td>\n",
       "    </tr>\n",
       "    <tr>\n",
       "      <th>17</th>\n",
       "      <td>f88032f4ad97b46654fe59ce3387cf5d</td>\n",
       "      <td>18745066</td>\n",
       "      <td>a99dcdeea0a543cffda08f7ee20bfcae</td>\n",
       "      <td>4</td>\n",
       "      <td>Seeing Past Sickness is a collection of 17 pie...</td>\n",
       "      <td>Mon Nov 04 15:37:37 -0800 2013</td>\n",
       "      <td>Tue Dec 30 12:25:07 -0800 2014</td>\n",
       "      <td>Thu Jul 03 00:00:00 -0700 2014</td>\n",
       "      <td>Sat Jun 28 00:00:00 -0700 2014</td>\n",
       "      <td>1</td>\n",
       "      <td>0</td>\n",
       "    </tr>\n",
       "    <tr>\n",
       "      <th>...</th>\n",
       "      <td>...</td>\n",
       "      <td>...</td>\n",
       "      <td>...</td>\n",
       "      <td>...</td>\n",
       "      <td>...</td>\n",
       "      <td>...</td>\n",
       "      <td>...</td>\n",
       "      <td>...</td>\n",
       "      <td>...</td>\n",
       "      <td>...</td>\n",
       "      <td>...</td>\n",
       "    </tr>\n",
       "    <tr>\n",
       "      <th>154538</th>\n",
       "      <td>9050eb3c9d81eac0194e2e882f15da19</td>\n",
       "      <td>50488</td>\n",
       "      <td>901a3ea8bb6ccac83c461f60e402e8db</td>\n",
       "      <td>4</td>\n",
       "      <td>\"His name is Boredom. He sniffs, wipes his eye...</td>\n",
       "      <td>Fri Mar 27 20:35:57 -0700 2015</td>\n",
       "      <td>Fri Mar 27 20:38:09 -0700 2015</td>\n",
       "      <td></td>\n",
       "      <td></td>\n",
       "      <td>1</td>\n",
       "      <td>0</td>\n",
       "    </tr>\n",
       "    <tr>\n",
       "      <th>154545</th>\n",
       "      <td>854c10d0e84107c80db6dd614b12e020</td>\n",
       "      <td>25882202</td>\n",
       "      <td>c8a19a2df288b8f50fd3d57ccf87dd7c</td>\n",
       "      <td>4</td>\n",
       "      <td>z chshm tw kh dr bnd~ drwysh \\n jhn~ zndn~ st ...</td>\n",
       "      <td>Fri Sep 18 14:55:29 -0700 2015</td>\n",
       "      <td>Fri Sep 18 15:08:12 -0700 2015</td>\n",
       "      <td></td>\n",
       "      <td></td>\n",
       "      <td>1</td>\n",
       "      <td>0</td>\n",
       "    </tr>\n",
       "    <tr>\n",
       "      <th>154546</th>\n",
       "      <td>854c10d0e84107c80db6dd614b12e020</td>\n",
       "      <td>25099715</td>\n",
       "      <td>c6f05e0d7ee3f7f8ad5320dcc624a486</td>\n",
       "      <td>5</td>\n",
       "      <td>\"`mqi akhryn Hrf h \\n mthli ystdn knri drh ~ \\...</td>\n",
       "      <td>Fri Apr 03 07:07:04 -0700 2015</td>\n",
       "      <td>Fri Apr 03 07:11:55 -0700 2015</td>\n",
       "      <td></td>\n",
       "      <td></td>\n",
       "      <td>5</td>\n",
       "      <td>0</td>\n",
       "    </tr>\n",
       "    <tr>\n",
       "      <th>154553</th>\n",
       "      <td>8ba77e3c745ebddccc6306fc3c6bb25e</td>\n",
       "      <td>9404584</td>\n",
       "      <td>844d9609e96ec611166ef20bf270233f</td>\n",
       "      <td>5</td>\n",
       "      <td>Emily Dickinson left a large cache of poetry -...</td>\n",
       "      <td>Tue Sep 04 14:58:29 -0700 2012</td>\n",
       "      <td>Tue Dec 24 03:26:39 -0800 2013</td>\n",
       "      <td>Fri Sep 21 10:09:53 -0700 2012</td>\n",
       "      <td>Tue Sep 04 14:58:29 -0700 2012</td>\n",
       "      <td>4</td>\n",
       "      <td>1</td>\n",
       "    </tr>\n",
       "    <tr>\n",
       "      <th>154554</th>\n",
       "      <td>8ba77e3c745ebddccc6306fc3c6bb25e</td>\n",
       "      <td>108127</td>\n",
       "      <td>726502e793d0f8df6461b6ca7be83b10</td>\n",
       "      <td>4</td>\n",
       "      <td>My Emily Dickinson is a deliciously dense conc...</td>\n",
       "      <td>Tue Jul 24 03:24:42 -0700 2012</td>\n",
       "      <td>Tue Sep 04 09:39:22 -0700 2012</td>\n",
       "      <td>Mon Sep 03 00:00:00 -0700 2012</td>\n",
       "      <td></td>\n",
       "      <td>1</td>\n",
       "      <td>0</td>\n",
       "    </tr>\n",
       "  </tbody>\n",
       "</table>\n",
       "<p>34778 rows × 11 columns</p>\n",
       "</div>"
      ],
      "text/plain": [
       "                                 user_id   book_id  \\\n",
       "12      d0c8e4089c1435ff9e1ab3f2bc5f88ff   5885639   \n",
       "13      d0c8e4089c1435ff9e1ab3f2bc5f88ff   5948950   \n",
       "15      f88032f4ad97b46654fe59ce3387cf5d  23668465   \n",
       "16      f88032f4ad97b46654fe59ce3387cf5d  18600808   \n",
       "17      f88032f4ad97b46654fe59ce3387cf5d  18745066   \n",
       "...                                  ...       ...   \n",
       "154538  9050eb3c9d81eac0194e2e882f15da19     50488   \n",
       "154545  854c10d0e84107c80db6dd614b12e020  25882202   \n",
       "154546  854c10d0e84107c80db6dd614b12e020  25099715   \n",
       "154553  8ba77e3c745ebddccc6306fc3c6bb25e   9404584   \n",
       "154554  8ba77e3c745ebddccc6306fc3c6bb25e    108127   \n",
       "\n",
       "                               review_id  rating  \\\n",
       "12      73acf3ef1555145e264933740c43f5d0       4   \n",
       "13      23a0016b3f4675a69e64e84a19b27359       5   \n",
       "15      ab273055bf0e8defc685e1cea51899c2       4   \n",
       "16      4415c79a0d78929a39018111d4a8565a       0   \n",
       "17      a99dcdeea0a543cffda08f7ee20bfcae       4   \n",
       "...                                  ...     ...   \n",
       "154538  901a3ea8bb6ccac83c461f60e402e8db       4   \n",
       "154545  c8a19a2df288b8f50fd3d57ccf87dd7c       4   \n",
       "154546  c6f05e0d7ee3f7f8ad5320dcc624a486       5   \n",
       "154553  844d9609e96ec611166ef20bf270233f       5   \n",
       "154554  726502e793d0f8df6461b6ca7be83b10       4   \n",
       "\n",
       "                                              review_text  \\\n",
       "12      k`d@ frwq jwyd@ y'sr lqr bqSy'dh l`dhb@ lmlyy'...   \n",
       "13      jmyl jd [?][?] \\n \" lmdh 'rki `l~ klW shy bqy ...   \n",
       "15      Beyond the Words is an anthology of poetry and...   \n",
       "16      Thoughts of a Pure Mind by Calvin Bland is a c...   \n",
       "17      Seeing Past Sickness is a collection of 17 pie...   \n",
       "...                                                   ...   \n",
       "154538  \"His name is Boredom. He sniffs, wipes his eye...   \n",
       "154545  z chshm tw kh dr bnd~ drwysh \\n jhn~ zndn~ st ...   \n",
       "154546  \"`mqi akhryn Hrf h \\n mthli ystdn knri drh ~ \\...   \n",
       "154553  Emily Dickinson left a large cache of poetry -...   \n",
       "154554  My Emily Dickinson is a deliciously dense conc...   \n",
       "\n",
       "                            date_added                    date_updated  \\\n",
       "12      Sat Dec 21 01:53:55 -0800 2013  Sun Dec 22 00:25:03 -0800 2013   \n",
       "13      Sat Dec 21 00:33:02 -0800 2013  Sun Dec 22 00:25:23 -0800 2013   \n",
       "15      Thu Jul 23 17:25:59 -0700 2015  Sat Oct 17 00:19:55 -0700 2015   \n",
       "16      Sun Mar 23 06:32:03 -0700 2014  Sun Mar 23 06:35:12 -0700 2014   \n",
       "17      Mon Nov 04 15:37:37 -0800 2013  Tue Dec 30 12:25:07 -0800 2014   \n",
       "...                                ...                             ...   \n",
       "154538  Fri Mar 27 20:35:57 -0700 2015  Fri Mar 27 20:38:09 -0700 2015   \n",
       "154545  Fri Sep 18 14:55:29 -0700 2015  Fri Sep 18 15:08:12 -0700 2015   \n",
       "154546  Fri Apr 03 07:07:04 -0700 2015  Fri Apr 03 07:11:55 -0700 2015   \n",
       "154553  Tue Sep 04 14:58:29 -0700 2012  Tue Dec 24 03:26:39 -0800 2013   \n",
       "154554  Tue Jul 24 03:24:42 -0700 2012  Tue Sep 04 09:39:22 -0700 2012   \n",
       "\n",
       "                               read_at                      started_at  \\\n",
       "12      Fri Dec 20 00:00:00 -0800 2013                                   \n",
       "13      Fri Dec 20 00:00:00 -0800 2013                                   \n",
       "15      Thu Oct 01 00:00:00 -0700 2015  Thu Jul 23 00:00:00 -0700 2015   \n",
       "16      Tue Jan 01 00:00:00 -0800 2013                                   \n",
       "17      Thu Jul 03 00:00:00 -0700 2014  Sat Jun 28 00:00:00 -0700 2014   \n",
       "...                                ...                             ...   \n",
       "154538                                                                   \n",
       "154545                                                                   \n",
       "154546                                                                   \n",
       "154553  Fri Sep 21 10:09:53 -0700 2012  Tue Sep 04 14:58:29 -0700 2012   \n",
       "154554  Mon Sep 03 00:00:00 -0700 2012                                   \n",
       "\n",
       "        n_votes  n_comments  \n",
       "12            2           0  \n",
       "13            0           0  \n",
       "15            1           0  \n",
       "16            1           0  \n",
       "17            1           0  \n",
       "...         ...         ...  \n",
       "154538        1           0  \n",
       "154545        1           0  \n",
       "154546        5           0  \n",
       "154553        4           1  \n",
       "154554        1           0  \n",
       "\n",
       "[34778 rows x 11 columns]"
      ]
     },
     "execution_count": 488,
     "metadata": {},
     "output_type": "execute_result"
    }
   ],
   "source": [
    "df_reviews[df_reviews.apply(lambda row: row.astype(str).str.contains(\"\\\"\").any(), axis=1)]"
   ]
  },
  {
   "cell_type": "code",
   "execution_count": 489,
   "metadata": {},
   "outputs": [],
   "source": [
    "df_reviews.review_text = df_reviews.review_text.apply(lambda x: x.replace('\"', \"'\"))\n",
    "# df_reviews.review_text = df_reviews.review_text.apply(lambda x: x.replace('\"', \"'\"))"
   ]
  },
  {
   "cell_type": "code",
   "execution_count": 496,
   "metadata": {},
   "outputs": [
    {
     "data": {
      "text/plain": [
       "user_id         False\n",
       "book_id         False\n",
       "review_id       False\n",
       "rating          False\n",
       "review_text     False\n",
       "date_added      False\n",
       "date_updated    False\n",
       "read_at         False\n",
       "started_at      False\n",
       "n_votes         False\n",
       "n_comments      False\n",
       "dtype: bool"
      ]
     },
     "execution_count": 496,
     "metadata": {},
     "output_type": "execute_result"
    }
   ],
   "source": [
    "df_reviews.isnull().any()"
   ]
  },
  {
   "cell_type": "code",
   "execution_count": 497,
   "metadata": {},
   "outputs": [],
   "source": [
    "df_reviews = df_reviews[['user_id', 'book_id', 'review_id', 'rating']]"
   ]
  },
  {
   "cell_type": "code",
   "execution_count": 499,
   "metadata": {},
   "outputs": [
    {
     "data": {
      "text/plain": [
       "5    58510\n",
       "4    47266\n",
       "3    28028\n",
       "2     9942\n",
       "0     6732\n",
       "1     4077\n",
       "Name: rating, dtype: int64"
      ]
     },
     "execution_count": 499,
     "metadata": {},
     "output_type": "execute_result"
    }
   ],
   "source": [
    "df_reviews.rating.value_counts()"
   ]
  },
  {
   "cell_type": "code",
   "execution_count": 500,
   "metadata": {},
   "outputs": [],
   "source": [
    "df_reviews.to_csv('reviews.csv', index = False)"
   ]
  },
  {
   "cell_type": "code",
   "execution_count": 502,
   "metadata": {},
   "outputs": [
    {
     "name": "stdout",
     "output_type": "stream",
     "text": [
      "number of users -  47400\n",
      "number of books -  36514\n",
      "number of authors -  12165\n",
      "number of publishers -  8185\n",
      "number of series -  613\n",
      "number of reviews -  154555\n"
     ]
    }
   ],
   "source": [
    "print(\"number of users - \",len(set(df_reviews.user_id)))\n",
    "print(\"number of books - \", len(set(df.book_id)))\n",
    "print(\"number of authors - \", len(set(authors_df.author)))\n",
    "print(\"number of publishers - \", len(set(df.publisher)))\n",
    "print(\"number of series - \", len(set(series_df.series)))\n",
    "print(\"number of reviews - \",len(set(df_reviews.review_id)))"
   ]
  },
  {
   "cell_type": "code",
   "execution_count": null,
   "metadata": {},
   "outputs": [],
   "source": []
  },
  {
   "cell_type": "code",
   "execution_count": null,
   "metadata": {},
   "outputs": [],
   "source": []
  },
  {
   "cell_type": "code",
   "execution_count": null,
   "metadata": {},
   "outputs": [],
   "source": []
  }
 ],
 "metadata": {
  "kernelspec": {
   "display_name": "Python 3",
   "language": "python",
   "name": "python3"
  },
  "language_info": {
   "codemirror_mode": {
    "name": "ipython",
    "version": 3
   },
   "file_extension": ".py",
   "mimetype": "text/x-python",
   "name": "python",
   "nbconvert_exporter": "python",
   "pygments_lexer": "ipython3",
   "version": "3.7.6"
  }
 },
 "nbformat": 4,
 "nbformat_minor": 4
}
